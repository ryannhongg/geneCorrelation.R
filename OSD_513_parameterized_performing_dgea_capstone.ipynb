{
  "nbformat": 4,
  "nbformat_minor": 0,
  "metadata": {
    "colab": {
      "provenance": [],
      "toc_visible": true,
      "collapsed_sections": [
        "1wR0LO0fwkuU",
        "Y9hHehciCflN",
        "QlJK1EflNZEd",
        "aIm5fVXzYRFk"
      ],
      "include_colab_link": true
    },
    "kernelspec": {
      "name": "python3",
      "display_name": "Python 3"
    },
    "language_info": {
      "name": "python"
    }
  },
  "cells": [
    {
      "cell_type": "markdown",
      "metadata": {
        "id": "view-in-github",
        "colab_type": "text"
      },
      "source": [
        "<a href=\"https://colab.research.google.com/github/ryannhongg/geneCorrelation.R/blob/main/OSD_513_parameterized_performing_dgea_capstone.ipynb\" target=\"_parent\"><img src=\"https://colab.research.google.com/assets/colab-badge.svg\" alt=\"Open In Colab\"/></a>"
      ]
    },
    {
      "cell_type": "markdown",
      "source": [
        "<div>\n",
        "<img src=\"https://www.nasa.gov/wp-content/uploads/2024/07/osdr-gl4hs-logo.png\" width=\"600\"/>\n",
        "</div>"
      ],
      "metadata": {
        "id": "d0_MkJdDbGIM"
      }
    },
    {
      "cell_type": "markdown",
      "source": [
        "# **NOTEBOOK 6: Performing differential gene expression analysis**\n",
        "In this notebook, you will run statistical tests to determine which genes are differentially expressed between ground control and space flight groups.\n",
        "\n",
        "## **Objectives of this notebook**\n",
        "The primary objective of this notebook is to perform [differential gene expression analysis](https://www.youtube.com/watch?v=tlf6wYJrwKY) (DGEA) using [Python's implementation of DESeq2](https://pydeseq2.readthedocs.io/en/stable/auto_examples/plot_step_by_step.html#sphx-glr-auto-examples-plot-step-by-step-py) to find genes which have a large enough [log2 fold change](https://www.biostars.org/p/9505003/) between ground control and space flight as well as a low enough adjusted [p-value](https://www.youtube.com/watch?v=vemZtEM63GY) as to be statistically significant.\n",
        "\n",
        "DGEA is actually a series of several [statistical hypothesis tests](https://www.youtube.com/watch?v=0oc49DyA3hU) - one per gene - that compares the expression of that gene between 2 groups (e.g. spaceflight vs ground control). The null hypothesis is that there is no significant difference in the expression of that gene between the 2 groups. The alternate hypothesis is that there is a significant difference between the expression of that gene between those 2 groups. This difference can either be over-regulated gene expression or under-regulated gene expression, making this a [two-tailed test](https://www.youtube.com/watch?v=bsZGt-caXO4).\n",
        "\n",
        "Additionally, you will use principal components analysis (PCA) to visualize the gene expression of all the samples in your dataset to determine if the samples separate according to their condition (e.g. space flight and ground control). You can learn more about PCA [here](https://youtu.be/HMOI_lkzW08?si=zTSi-OclCvmEvdVR). After performing DGEA, you will create a volcano plot of the p-values to visualize their distribution. You can learn more about volcano plots [here](https://www.youtube.com/watch?v=7aWAdw2jhj0).\n",
        "\n",
        "We will no longer use the FASTQ data from the previous notebooks regarding the single sample paired end reads. Instead, we will download the GeneLab-processed count data for all the samples in your dataset and use that as our starting point for this and the next notebook.\n",
        "\n",
        "## **UNIX commands introduced in this notebook**\n",
        "\n",
        "[`unzip`](https://linux.die.net/man/1/unzip) command to extract the files in a ZIP archive."
      ],
      "metadata": {
        "id": "Ftcuq8HIqDcv"
      }
    },
    {
      "cell_type": "markdown",
      "source": [
        "# Prepare runtime environment for lab"
      ],
      "metadata": {
        "id": "MbsdHhEvn0cc"
      }
    },
    {
      "cell_type": "code",
      "execution_count": null,
      "metadata": {
        "id": "wuZaffD5o3mS",
        "colab": {
          "base_uri": "https://localhost:8080/"
        },
        "outputId": "65a7565e-9950-4164-b522-821e46a32397"
      },
      "outputs": [
        {
          "output_type": "stream",
          "name": "stdout",
          "text": [
            "Drive not mounted, so nothing to flush and unmount.\n",
            "Mounted at mnt\n"
          ]
        }
      ],
      "source": [
        "# mount google drive to mnt mount point\n",
        "from google.colab import drive\n",
        "drive.flush_and_unmount()\n",
        "drive.mount(\"mnt\")\n"
      ]
    },
    {
      "cell_type": "code",
      "source": [
        "# time the notebook\n",
        "import datetime\n",
        "start_time = datetime.datetime.now()\n",
        "print('notebook start time: ', start_time.strftime('%Y-%m-%d %H:%M:%S'))"
      ],
      "metadata": {
        "id": "_7d8Za77MgJS",
        "colab": {
          "base_uri": "https://localhost:8080/"
        },
        "outputId": "3895a21e-1d73-4fac-bae0-21f7b72356ef"
      },
      "execution_count": null,
      "outputs": [
        {
          "output_type": "stream",
          "name": "stdout",
          "text": [
            "notebook start time:  2025-08-15 03:24:40\n"
          ]
        }
      ]
    },
    {
      "cell_type": "code",
      "source": [
        "# define OSD dataset number to use for this notebook\n",
        "\n",
        "OSD_DATASET='513'\n",
        "GLDS_DATASET='513'\n",
        "\n",
        "#OSD_DATASET='678'\n",
        "#GLDS_DATASET='612'\n",
        "\n",
        "#OSD_DATASET='104'\n",
        "#GLDS_DATASET='104'\n",
        "\n",
        "#OSD_DATASET='254'\n",
        "#GLDS_DATASET='254'\n",
        "\n",
        "#OSD_DATASET='580'\n",
        "#GLDS_DATASET='573'\n",
        "\n",
        "#OSD_DATASET='137'\n",
        "#GLDS_DATASET='137'\n",
        "\n",
        "#OSD_DATASET='47'\n",
        "#GLDS_DATASET='47'\n",
        "\n",
        "#OSD_DATASET='48'\n",
        "#GLDS_DATASET='48'\n",
        "\n",
        "#OSD_DATASET='120'\n",
        "#GLDS_DATASET='120'\n",
        "\n",
        "#OSD_DATASET='245'\n",
        "#GLDS_DATASET='245'\n",
        "\n"
      ],
      "metadata": {
        "id": "aYYro7o0n6kY"
      },
      "execution_count": null,
      "outputs": []
    },
    {
      "cell_type": "code",
      "source": [
        "# define factors for experiment\n",
        "# NOTE: the configs listed below are examples that work with specific OSD datasets\n",
        "# these configs will not necessarily work with the OSD dataset that you've chosen\n",
        "# We defined 5 different configs, but on the bottom of this cell, we only choose\n",
        "# one of them and store in a variable called \"config\". You can run one config for\n",
        "# the notebook at a time, and the results for each config will be stored separately.\n",
        "# The results of this experiment will be stored in your google drive under\n",
        "# NASA/GL4HS/CAPSTONE/<experiment name>\n",
        "\n",
        "# young GC vs old GC\n",
        "config_1 = {\n",
        "    'experiment name': 'young_GC_vs_old_GC',\n",
        "    'factor_list': ['Factor Value[Spaceflight]', 'Factor Value[Age]'],\n",
        "    'group_A': {'Factor Value[Spaceflight]': 'Ground Control', 'Factor Value[Age]': '10 to 12'},\n",
        "    'group_B': {'Factor Value[Spaceflight]': 'Ground Control', 'Factor Value[Age]': '32'}\n",
        "}\n",
        "\n",
        "# young FLT vs old FLT\n",
        "config_2 = {\n",
        "    'experiment name': 'young_FLT_vs_old_FLT',\n",
        "    'factor_list': ['Factor Value[Spaceflight]', 'Factor Value[Age]'],\n",
        "    'group_A': {'Factor Value[Spaceflight]': 'Space Flight', 'Factor Value[Age]': '10 to 12'},\n",
        "    'group_B': {'Factor Value[Spaceflight]': 'Space Flight', 'Factor Value[Age]': '32'}\n",
        "}\n",
        "\n",
        "# young GC vs young FLT\n",
        "config_3 = {\n",
        "    'experiment name': 'young_GC_vs_young_FLT',\n",
        "    'factor_list': ['Factor Value[Spaceflight]', 'Factor Value[Age]'],\n",
        "    'group_A': {'Factor Value[Spaceflight]': 'Ground Control', 'Factor Value[Age]': '10 to 12'},\n",
        "    'group_B': {'Factor Value[Spaceflight]': 'Space Flight', 'Factor Value[Age]': '10 to 12'}\n",
        "}\n",
        "\n",
        "# old GC vs old FLT\n",
        "config_4 = {\n",
        "    'experiment name': 'old_GC_vs_old_FLT',\n",
        "    'factor_list': ['Factor Value[Spaceflight]', 'Factor Value[Age]'],\n",
        "    'group_A': {'Factor Value[Spaceflight]': 'Ground Control', 'Factor Value[Age]': '32'},\n",
        "    'group_B': {'Factor Value[Spaceflight]': 'Space Flight', 'Factor Value[Age]': '32'}\n",
        "}\n",
        "\n",
        "# FLT vs GC\n",
        "config_5 = {\n",
        "    'experiment name': 'FLT_vs_GC',\n",
        "    'factor_list': ['Factor Value[Spaceflight]'],\n",
        "    'group_A': {'Factor Value[Spaceflight]': 'Space Flight'},\n",
        "    'group_B': {'Factor Value[Spaceflight]': 'Ground Control'}\n",
        "}\n",
        "\n",
        "# YNG vs OLD\n",
        "config_6 = {\n",
        "    'experiment name': 'YNG_vs_OLD',\n",
        "    'factor_list': ['Factor Value[Age]'],\n",
        "    'group_A': {'Factor Value[Age]': '10 to 12'},\n",
        "    'group_B': {'Factor Value[Age]': '32'}\n",
        "}\n",
        "\n",
        "# LONG vs SHORT\n",
        "config_7 = {\n",
        "    'experiment name': 'LONG_vs_SHORT',\n",
        "    'factor_list': ['Factor Value[Duration]'],\n",
        "    'group_A': {'Factor Value[Duration]': '~25'},\n",
        "    'group_B': {'Factor Value[Duration]': '~75'}\n",
        "}\n",
        "config = config_5\n"
      ],
      "metadata": {
        "id": "NAN4OmlWFMwz"
      },
      "execution_count": null,
      "outputs": []
    },
    {
      "cell_type": "code",
      "source": [
        "# define the threshold for coefficient of variation\n",
        "CV_THRESH=0.5"
      ],
      "metadata": {
        "id": "3rTog4Ywgd-2"
      },
      "execution_count": null,
      "outputs": []
    },
    {
      "cell_type": "code",
      "source": [
        "# define log2 fold change threshold\n",
        "LOG2FC_THRESH = 1.5"
      ],
      "metadata": {
        "id": "zaUQ8zIKEmDz"
      },
      "execution_count": null,
      "outputs": []
    },
    {
      "cell_type": "code",
      "source": [
        "# define alpha level of significance\n",
        "ALPHA_LEVEL = 0.05"
      ],
      "metadata": {
        "id": "-T7nGUEpbMBS"
      },
      "execution_count": null,
      "outputs": []
    },
    {
      "cell_type": "code",
      "source": [
        "# create output directory\n",
        "import os\n",
        "OUTPUT_DIR=\"/content/mnt/MyDrive/NASA/GL4HS/CAPSTONE/\" + OSD_DATASET + '/' + config['experiment name']\n",
        "if not os.path.exists(OUTPUT_DIR):\n",
        "  !mkdir -p {META_DIR}"
      ],
      "metadata": {
        "id": "03LxDtiT5GkP"
      },
      "execution_count": null,
      "outputs": []
    },
    {
      "cell_type": "code",
      "source": [
        "# create META_DIR directory for metadata\n",
        "import os\n",
        "META_DIR=OUTPUT_DIR + \"/META/\"\n",
        "if os.path.exists(META_DIR):\n",
        "  !rm -rf {META_DIR}\n",
        "!mkdir -p {META_DIR}"
      ],
      "metadata": {
        "id": "d-mmPpDq8DXI"
      },
      "execution_count": null,
      "outputs": []
    },
    {
      "cell_type": "code",
      "source": [
        "# create DGEA_DIR directory for DGEA output\n",
        "DGEA_DIR=OUTPUT_DIR + \"/DGEA/\"\n",
        "if os.path.exists(DGEA_DIR):\n",
        "  !rm -rf {DGEA_DIR}\n",
        "\n",
        "!mkdir -p {DGEA_DIR}"
      ],
      "metadata": {
        "id": "16Gxq5i-Qrfs"
      },
      "execution_count": null,
      "outputs": []
    },
    {
      "cell_type": "code",
      "source": [
        "# install packages and import the modules needed to do DGEA\n",
        "!pip install pyDeseq2 > /dev/null\n",
        "from pydeseq2.dds import DeseqDataSet\n",
        "from pydeseq2.ds import DeseqStats\n",
        "import numpy as np\n",
        "!pip install scikit-learn > /dev/null\n",
        "from sklearn.decomposition import PCA\n",
        "import matplotlib.pyplot as plt\n",
        "!pip install Ensembl_converter > /dev/null\n",
        "from Ensembl_converter import EnsemblConverter\n",
        "!pip install mygene > /dev/null\n",
        "import mygene"
      ],
      "metadata": {
        "id": "e5Wls0rb8nei"
      },
      "execution_count": null,
      "outputs": []
    },
    {
      "cell_type": "markdown",
      "source": [
        "# Define Python methods for notebook"
      ],
      "metadata": {
        "id": "1wR0LO0fwkuU"
      }
    },
    {
      "cell_type": "code",
      "source": [
        "# define method for removing NaNs from dataframe\n",
        "def drop_nans(df):\n",
        "  # drop NaN rows\n",
        "  df = df.dropna(inplace=False)\n",
        "  return df"
      ],
      "metadata": {
        "id": "Fpd2_8oSJfq9"
      },
      "execution_count": null,
      "outputs": []
    },
    {
      "cell_type": "markdown",
      "source": [
        "You can learn more about Python NaN [here](https://stackoverflow.com/questions/17628613/what-is-inf-and-nan)."
      ],
      "metadata": {
        "id": "4WXo35xfGTyi"
      }
    },
    {
      "cell_type": "code",
      "source": [
        "# define method for dropping low-count genes\n",
        "def drop_lowcount(df, threshold=10):\n",
        "\n",
        "  # let's drop any low-count genes\n",
        "  if 'transcript' in df.columns:\n",
        "    df = df[df.drop(columns=['transcript']).sum(axis=1) >= threshold]\n",
        "  elif 'Unnamed: 0' in df.columns:\n",
        "    df = df[df.drop(columns=['Unnamed: 0']).sum(axis=1) >= threshold]\n",
        "  else:\n",
        "    raise Exception(\"check file format\")\n",
        "  return df\n"
      ],
      "metadata": {
        "id": "6HN5IusVITph"
      },
      "execution_count": null,
      "outputs": []
    },
    {
      "cell_type": "markdown",
      "source": [
        "You can read more about low-count gene thresholds [here](https://www.biostars.org/p/251922/)."
      ],
      "metadata": {
        "id": "x0DavLq2GZYO"
      }
    },
    {
      "cell_type": "code",
      "source": [
        "# define method for filtering low coefficient-of-variation genes\n",
        "def filter_cvs(df, thresh):\n",
        "  import numpy as np\n",
        "  import matplotlib.pyplot as plt\n",
        "\n",
        "  # calculate coefficient of variation\n",
        "  cvs=list()\n",
        "  for i in range(len(df)):\n",
        "    m = np.mean(df.iloc[i][1:])\n",
        "    sd = np.std(df.iloc[i][1:])\n",
        "    cvs.append(sd/m)\n",
        "\n",
        "  # plot hist of dist of coev of variation\n",
        "  fig, axs = plt.subplots()\n",
        "  axs.hist(cvs, bins=20)\n",
        "\n",
        "  # add labels for x and y axes\n",
        "  plt.xlabel('coefficient of variation')\n",
        "  plt.ylabel('number of genes')\n",
        "\n",
        "  # keep genes with cv > thresh\n",
        "  indices = list()\n",
        "  for i in range(len(cvs)):\n",
        "    if cvs[i] > thresh:\n",
        "      indices.append(i)\n",
        "  return df.iloc[indices]\n"
      ],
      "metadata": {
        "id": "kP1XbXTGHwyV"
      },
      "execution_count": null,
      "outputs": []
    },
    {
      "cell_type": "markdown",
      "source": [
        "You can read more about the coefficient of variation [here](https://en.wikipedia.org/wiki/Coefficient_of_variation)."
      ],
      "metadata": {
        "id": "h9hFDO5LHHFt"
      }
    },
    {
      "cell_type": "code",
      "source": [
        "# define method to transpose a dataframe\n",
        "def transpose_df(df, cur_index_col, new_index_col):\n",
        "  df = df.set_index(cur_index_col).T\n",
        "  df.reset_index(level=0, inplace=True)\n",
        "  cols = [new_index_col] + list(df.columns)[1:]\n",
        "  df.columns = cols\n",
        "  return df"
      ],
      "metadata": {
        "id": "ZI_Th7520Dlm"
      },
      "execution_count": null,
      "outputs": []
    },
    {
      "cell_type": "markdown",
      "source": [
        "You can read more about transposition [here](https://www.geeksforgeeks.org/python-pandas-dataframe-transpose/)."
      ],
      "metadata": {
        "id": "me9fQhopHSc1"
      }
    },
    {
      "cell_type": "code",
      "source": [
        "# define method for dropping ERCC genes from dataframe\n",
        "def drop_ercc(df):\n",
        "  df = df[df['Unnamed: 0'].str.contains('ERCC-') == False]\n",
        "  return df"
      ],
      "metadata": {
        "id": "JRn5oqdm22Eh"
      },
      "execution_count": null,
      "outputs": []
    },
    {
      "cell_type": "markdown",
      "source": [
        "You can read more about ERCC [here](https://www.nist.gov/programs-projects/external-rna-controls-consortium)."
      ],
      "metadata": {
        "id": "e5mNCok5HfhI"
      }
    },
    {
      "cell_type": "code",
      "source": [
        "# define method for running PCA\n",
        "def run_pca(_expr, _meta, samples_0, samples_1, factor_list):\n",
        "\n",
        "  X = np.array(_expr.drop(columns=['sample']))\n",
        "  y = np.array(list(factor_list))\n",
        "  target_names=np.array(['group 0', 'group 1'])\n",
        "\n",
        "  # run PCA to reduce dimensions\n",
        "  pca = PCA(n_components=2)\n",
        "  X_r = pca.fit_transform(X)\n",
        "\n",
        "  # Percentage of variance explained for each components\n",
        "  print(\n",
        "      \"explained variance ratio (first two components): %s\"\n",
        "      % str(pca.explained_variance_ratio_)\n",
        "  )\n",
        "\n",
        "  # plot the pca plot\n",
        "  plt.figure()\n",
        "  colors = [\"blue\", \"red\"]\n",
        "  lw = 2\n",
        "  for color, i, target_name in zip(colors, ['0', '1'], target_names):\n",
        "    plt.scatter(X_r[y == i, 0], X_r[y == i, 1], color=color, alpha=0.8, lw=lw, label=target_name)\n",
        "  plt.legend(loc=\"best\", shadow=False, scatterpoints=1)\n",
        "  plt.xlabel(\"PC1\")\n",
        "  plt.ylabel(\"PC2\")\n",
        "  plt.title(\"PCA of OSD dataset\")\n",
        "\n",
        "  # show the last digits of the sample name if the number of samples is less than 40\n",
        "  if len(_expr) < 100:\n",
        "    samples = list(_expr['sample'])\n",
        "    for i, txt in enumerate(samples):\n",
        "        plt.annotate(txt[-8:], (X_r[i][0], X_r[i][1]))\n",
        "\n",
        "  return plt"
      ],
      "metadata": {
        "id": "P8NVylD-gpA_"
      },
      "execution_count": null,
      "outputs": []
    },
    {
      "cell_type": "code",
      "source": [
        "# define method to convert ensembl gene id's to gene symbols\n",
        "def old_get_symbol_from_id(gene_id_list):\n",
        "  # Create an instance of EnsemblConverter\n",
        "  converter = EnsemblConverter()\n",
        "\n",
        "  # Convert Ensembl IDs to gene symbols\n",
        "  result = converter.convert_ids(gene_id_list)\n",
        "\n",
        "  # Print the resulting DataFrame\n",
        "  gene_symbol_list = list()\n",
        "  for i in range(len(result)):\n",
        "    gene_symbol_list.append(result.iloc[i]['Symbol'])\n",
        "\n",
        "  return gene_symbol_list"
      ],
      "metadata": {
        "id": "B_-3mrOpBvYo"
      },
      "execution_count": null,
      "outputs": []
    },
    {
      "cell_type": "code",
      "source": [
        "# define method to convert gene ids to symbols\n",
        "def get_symbol_from_id(gene_list):\n",
        "  import mygene\n",
        "\n",
        "  symbol_list = list()\n",
        "  mg = mygene.MyGeneInfo()\n",
        "  ginfo = mg.querymany(gene_list, scopes='ensembl.gene')\n",
        "  seen_genes = list()\n",
        "  for g in ginfo:\n",
        "    if g['query'] in seen_genes:\n",
        "      continue\n",
        "    if not 'symbol' in g:\n",
        "      symbol_list.append(g['query'])\n",
        "    else:\n",
        "      symbol_list.append(g['symbol'])\n",
        "    seen_genes.append(g['query'])\n",
        "  return symbol_list"
      ],
      "metadata": {
        "id": "qg4B3l9Fivti"
      },
      "execution_count": null,
      "outputs": []
    },
    {
      "cell_type": "markdown",
      "source": [
        "# Download data from OSDR"
      ],
      "metadata": {
        "id": "xybG83XEBR_w"
      }
    },
    {
      "cell_type": "code",
      "source": [
        "# open the URL printed below in another browser window\n",
        "osd_url = !echo https://visualization.osdr.nasa.gov/biodata/api/v2/dataset/OSD-{513}/files/\\?format=browser\n",
        "print(osd_url[0])"
      ],
      "metadata": {
        "id": "XjmvscbU6emE",
        "colab": {
          "base_uri": "https://localhost:8080/"
        },
        "outputId": "e34b2b8d-e350-4e9d-c522-e31bd9c8068e"
      },
      "execution_count": null,
      "outputs": [
        {
          "output_type": "stream",
          "name": "stdout",
          "text": [
            "https://visualization.osdr.nasa.gov/biodata/api/v2/dataset/OSD-513/files/?format=browser\n"
          ]
        }
      ]
    },
    {
      "cell_type": "code",
      "source": [
        "# download OSD unnormalized count data\n",
        "# NOTE: if you get an error (HTTP 404) in this cell, then open the link at the top of this section,\n",
        "# find and copy the exact URL for the expression ZIP file for your dataset, and replace the\n",
        "# url variable below with the exact URL for your dataset.\n",
        "# if the link in the previous cell is broken, visit the OSDR Web page for your dataset to find the filenames\n",
        "# and adjust the url below accordingly\n",
        "\n",
        "import pandas as pd\n",
        "#url = 'https://osdr.nasa.gov/geode-py/ws/studies/OSD-' + OSD_DATASET + '/download?source=datamanager&file=GLDS-' + GLDS_DATASET + '_rna_seq_Unnormalized_Counts.csv'\n",
        "url = 'https://osdr.nasa.gov/geode-py/ws/studies/OSD-513/download?source=datamanager&file=GLDS-513_rna_seq_STAR_Unnormalized_Counts.csv'\n",
        "#url='https://osdr.nasa.gov/geode-py/ws/studies/OSD-678/download?source=datamanager&file=GLDS-612_rna_seq_STAR_Unnormalized_Counts_GLbulkRNAseq.csv'\n",
        "#url = 'https://osdr.nasa.gov/geode-py/ws/studies/OSD-511/download?source=datamanager&file=GLDS-511_rna_seq_STAR_Unnormalized_Counts.csv'\n",
        "#url='https://osdr.nasa.gov/geode-py/ws/studies/OSD-254/download?source=datamanager&file=' + 'GLDS-254_rna_seq_Unnormalized_Counts.csv'\n",
        "\n",
        "expr_df = pd.read_csv(url)\n",
        "expr_df.head()"
      ],
      "metadata": {
        "id": "1zKdaHOR6ssc",
        "colab": {
          "base_uri": "https://localhost:8080/",
          "height": 256
        },
        "outputId": "e4a98f71-d97d-41e3-ffb7-f2ec136e42e1"
      },
      "execution_count": null,
      "outputs": [
        {
          "output_type": "execute_result",
          "data": {
            "text/plain": [
              "           Unnamed: 0  RR23_KDN_FLT_F1_techrep1  RR23_KDN_FLT_F1_techrep2  \\\n",
              "0  ENSMUSG00000000001                      4785                      4864   \n",
              "1  ENSMUSG00000000003                         0                         0   \n",
              "2  ENSMUSG00000000028                        53                        68   \n",
              "3  ENSMUSG00000000031                         3                         1   \n",
              "4  ENSMUSG00000000037                         7                         8   \n",
              "\n",
              "   RR23_KDN_FLT_F2  RR23_KDN_FLT_F3  RR23_KDN_FLT_F4  RR23_KDN_FLT_F5  \\\n",
              "0             4668             3118             4477             5457   \n",
              "1                0                0                0                0   \n",
              "2               46               27               33               51   \n",
              "3                0                0                1                0   \n",
              "4                4                5                6                7   \n",
              "\n",
              "   RR23_KDN_FLT_F6  RR23_KDN_FLT_F7  RR23_KDN_FLT_F8  ...  \\\n",
              "0             3843             5989             4823  ...   \n",
              "1                1                0                0  ...   \n",
              "2               42               33               41  ...   \n",
              "3                1                3                2  ...   \n",
              "4                3                8                7  ...   \n",
              "\n",
              "   RR23_KDN_VIV_V1_techrep1  RR23_KDN_VIV_V1_techrep2  RR23_KDN_VIV_V2  \\\n",
              "0                      4393                      4015             5784   \n",
              "1                         0                         0                0   \n",
              "2                        29                        26               49   \n",
              "3                         2                         2                1   \n",
              "4                        15                         7                7   \n",
              "\n",
              "   RR23_KDN_VIV_V3  RR23_KDN_VIV_V4  RR23_KDN_VIV_V5  RR23_KDN_VIV_V6  \\\n",
              "0             4276             3359             4381             2970   \n",
              "1                0                0                0                0   \n",
              "2               43               34               42               39   \n",
              "3                2                0                9                2   \n",
              "4                6                6                7                9   \n",
              "\n",
              "   RR23_KDN_VIV_V7  RR23_KDN_VIV_V8  RR23_KDN_VIV_V9  \n",
              "0             3194             6603             5448  \n",
              "1                0                0                0  \n",
              "2               34               70               55  \n",
              "3                1                9                0  \n",
              "4                5               17                6  \n",
              "\n",
              "[5 rows x 31 columns]"
            ],
            "text/html": [
              "\n",
              "  <div id=\"df-0d6017b5-cc27-4cdb-a4d5-a3291ac8e84c\" class=\"colab-df-container\">\n",
              "    <div>\n",
              "<style scoped>\n",
              "    .dataframe tbody tr th:only-of-type {\n",
              "        vertical-align: middle;\n",
              "    }\n",
              "\n",
              "    .dataframe tbody tr th {\n",
              "        vertical-align: top;\n",
              "    }\n",
              "\n",
              "    .dataframe thead th {\n",
              "        text-align: right;\n",
              "    }\n",
              "</style>\n",
              "<table border=\"1\" class=\"dataframe\">\n",
              "  <thead>\n",
              "    <tr style=\"text-align: right;\">\n",
              "      <th></th>\n",
              "      <th>Unnamed: 0</th>\n",
              "      <th>RR23_KDN_FLT_F1_techrep1</th>\n",
              "      <th>RR23_KDN_FLT_F1_techrep2</th>\n",
              "      <th>RR23_KDN_FLT_F2</th>\n",
              "      <th>RR23_KDN_FLT_F3</th>\n",
              "      <th>RR23_KDN_FLT_F4</th>\n",
              "      <th>RR23_KDN_FLT_F5</th>\n",
              "      <th>RR23_KDN_FLT_F6</th>\n",
              "      <th>RR23_KDN_FLT_F7</th>\n",
              "      <th>RR23_KDN_FLT_F8</th>\n",
              "      <th>...</th>\n",
              "      <th>RR23_KDN_VIV_V1_techrep1</th>\n",
              "      <th>RR23_KDN_VIV_V1_techrep2</th>\n",
              "      <th>RR23_KDN_VIV_V2</th>\n",
              "      <th>RR23_KDN_VIV_V3</th>\n",
              "      <th>RR23_KDN_VIV_V4</th>\n",
              "      <th>RR23_KDN_VIV_V5</th>\n",
              "      <th>RR23_KDN_VIV_V6</th>\n",
              "      <th>RR23_KDN_VIV_V7</th>\n",
              "      <th>RR23_KDN_VIV_V8</th>\n",
              "      <th>RR23_KDN_VIV_V9</th>\n",
              "    </tr>\n",
              "  </thead>\n",
              "  <tbody>\n",
              "    <tr>\n",
              "      <th>0</th>\n",
              "      <td>ENSMUSG00000000001</td>\n",
              "      <td>4785</td>\n",
              "      <td>4864</td>\n",
              "      <td>4668</td>\n",
              "      <td>3118</td>\n",
              "      <td>4477</td>\n",
              "      <td>5457</td>\n",
              "      <td>3843</td>\n",
              "      <td>5989</td>\n",
              "      <td>4823</td>\n",
              "      <td>...</td>\n",
              "      <td>4393</td>\n",
              "      <td>4015</td>\n",
              "      <td>5784</td>\n",
              "      <td>4276</td>\n",
              "      <td>3359</td>\n",
              "      <td>4381</td>\n",
              "      <td>2970</td>\n",
              "      <td>3194</td>\n",
              "      <td>6603</td>\n",
              "      <td>5448</td>\n",
              "    </tr>\n",
              "    <tr>\n",
              "      <th>1</th>\n",
              "      <td>ENSMUSG00000000003</td>\n",
              "      <td>0</td>\n",
              "      <td>0</td>\n",
              "      <td>0</td>\n",
              "      <td>0</td>\n",
              "      <td>0</td>\n",
              "      <td>0</td>\n",
              "      <td>1</td>\n",
              "      <td>0</td>\n",
              "      <td>0</td>\n",
              "      <td>...</td>\n",
              "      <td>0</td>\n",
              "      <td>0</td>\n",
              "      <td>0</td>\n",
              "      <td>0</td>\n",
              "      <td>0</td>\n",
              "      <td>0</td>\n",
              "      <td>0</td>\n",
              "      <td>0</td>\n",
              "      <td>0</td>\n",
              "      <td>0</td>\n",
              "    </tr>\n",
              "    <tr>\n",
              "      <th>2</th>\n",
              "      <td>ENSMUSG00000000028</td>\n",
              "      <td>53</td>\n",
              "      <td>68</td>\n",
              "      <td>46</td>\n",
              "      <td>27</td>\n",
              "      <td>33</td>\n",
              "      <td>51</td>\n",
              "      <td>42</td>\n",
              "      <td>33</td>\n",
              "      <td>41</td>\n",
              "      <td>...</td>\n",
              "      <td>29</td>\n",
              "      <td>26</td>\n",
              "      <td>49</td>\n",
              "      <td>43</td>\n",
              "      <td>34</td>\n",
              "      <td>42</td>\n",
              "      <td>39</td>\n",
              "      <td>34</td>\n",
              "      <td>70</td>\n",
              "      <td>55</td>\n",
              "    </tr>\n",
              "    <tr>\n",
              "      <th>3</th>\n",
              "      <td>ENSMUSG00000000031</td>\n",
              "      <td>3</td>\n",
              "      <td>1</td>\n",
              "      <td>0</td>\n",
              "      <td>0</td>\n",
              "      <td>1</td>\n",
              "      <td>0</td>\n",
              "      <td>1</td>\n",
              "      <td>3</td>\n",
              "      <td>2</td>\n",
              "      <td>...</td>\n",
              "      <td>2</td>\n",
              "      <td>2</td>\n",
              "      <td>1</td>\n",
              "      <td>2</td>\n",
              "      <td>0</td>\n",
              "      <td>9</td>\n",
              "      <td>2</td>\n",
              "      <td>1</td>\n",
              "      <td>9</td>\n",
              "      <td>0</td>\n",
              "    </tr>\n",
              "    <tr>\n",
              "      <th>4</th>\n",
              "      <td>ENSMUSG00000000037</td>\n",
              "      <td>7</td>\n",
              "      <td>8</td>\n",
              "      <td>4</td>\n",
              "      <td>5</td>\n",
              "      <td>6</td>\n",
              "      <td>7</td>\n",
              "      <td>3</td>\n",
              "      <td>8</td>\n",
              "      <td>7</td>\n",
              "      <td>...</td>\n",
              "      <td>15</td>\n",
              "      <td>7</td>\n",
              "      <td>7</td>\n",
              "      <td>6</td>\n",
              "      <td>6</td>\n",
              "      <td>7</td>\n",
              "      <td>9</td>\n",
              "      <td>5</td>\n",
              "      <td>17</td>\n",
              "      <td>6</td>\n",
              "    </tr>\n",
              "  </tbody>\n",
              "</table>\n",
              "<p>5 rows × 31 columns</p>\n",
              "</div>\n",
              "    <div class=\"colab-df-buttons\">\n",
              "\n",
              "  <div class=\"colab-df-container\">\n",
              "    <button class=\"colab-df-convert\" onclick=\"convertToInteractive('df-0d6017b5-cc27-4cdb-a4d5-a3291ac8e84c')\"\n",
              "            title=\"Convert this dataframe to an interactive table.\"\n",
              "            style=\"display:none;\">\n",
              "\n",
              "  <svg xmlns=\"http://www.w3.org/2000/svg\" height=\"24px\" viewBox=\"0 -960 960 960\">\n",
              "    <path d=\"M120-120v-720h720v720H120Zm60-500h600v-160H180v160Zm220 220h160v-160H400v160Zm0 220h160v-160H400v160ZM180-400h160v-160H180v160Zm440 0h160v-160H620v160ZM180-180h160v-160H180v160Zm440 0h160v-160H620v160Z\"/>\n",
              "  </svg>\n",
              "    </button>\n",
              "\n",
              "  <style>\n",
              "    .colab-df-container {\n",
              "      display:flex;\n",
              "      gap: 12px;\n",
              "    }\n",
              "\n",
              "    .colab-df-convert {\n",
              "      background-color: #E8F0FE;\n",
              "      border: none;\n",
              "      border-radius: 50%;\n",
              "      cursor: pointer;\n",
              "      display: none;\n",
              "      fill: #1967D2;\n",
              "      height: 32px;\n",
              "      padding: 0 0 0 0;\n",
              "      width: 32px;\n",
              "    }\n",
              "\n",
              "    .colab-df-convert:hover {\n",
              "      background-color: #E2EBFA;\n",
              "      box-shadow: 0px 1px 2px rgba(60, 64, 67, 0.3), 0px 1px 3px 1px rgba(60, 64, 67, 0.15);\n",
              "      fill: #174EA6;\n",
              "    }\n",
              "\n",
              "    .colab-df-buttons div {\n",
              "      margin-bottom: 4px;\n",
              "    }\n",
              "\n",
              "    [theme=dark] .colab-df-convert {\n",
              "      background-color: #3B4455;\n",
              "      fill: #D2E3FC;\n",
              "    }\n",
              "\n",
              "    [theme=dark] .colab-df-convert:hover {\n",
              "      background-color: #434B5C;\n",
              "      box-shadow: 0px 1px 3px 1px rgba(0, 0, 0, 0.15);\n",
              "      filter: drop-shadow(0px 1px 2px rgba(0, 0, 0, 0.3));\n",
              "      fill: #FFFFFF;\n",
              "    }\n",
              "  </style>\n",
              "\n",
              "    <script>\n",
              "      const buttonEl =\n",
              "        document.querySelector('#df-0d6017b5-cc27-4cdb-a4d5-a3291ac8e84c button.colab-df-convert');\n",
              "      buttonEl.style.display =\n",
              "        google.colab.kernel.accessAllowed ? 'block' : 'none';\n",
              "\n",
              "      async function convertToInteractive(key) {\n",
              "        const element = document.querySelector('#df-0d6017b5-cc27-4cdb-a4d5-a3291ac8e84c');\n",
              "        const dataTable =\n",
              "          await google.colab.kernel.invokeFunction('convertToInteractive',\n",
              "                                                    [key], {});\n",
              "        if (!dataTable) return;\n",
              "\n",
              "        const docLinkHtml = 'Like what you see? Visit the ' +\n",
              "          '<a target=\"_blank\" href=https://colab.research.google.com/notebooks/data_table.ipynb>data table notebook</a>'\n",
              "          + ' to learn more about interactive tables.';\n",
              "        element.innerHTML = '';\n",
              "        dataTable['output_type'] = 'display_data';\n",
              "        await google.colab.output.renderOutput(dataTable, element);\n",
              "        const docLink = document.createElement('div');\n",
              "        docLink.innerHTML = docLinkHtml;\n",
              "        element.appendChild(docLink);\n",
              "      }\n",
              "    </script>\n",
              "  </div>\n",
              "\n",
              "\n",
              "    <div id=\"df-a119480f-bfcf-409a-8eb5-58c9e57604b1\">\n",
              "      <button class=\"colab-df-quickchart\" onclick=\"quickchart('df-a119480f-bfcf-409a-8eb5-58c9e57604b1')\"\n",
              "                title=\"Suggest charts\"\n",
              "                style=\"display:none;\">\n",
              "\n",
              "<svg xmlns=\"http://www.w3.org/2000/svg\" height=\"24px\"viewBox=\"0 0 24 24\"\n",
              "     width=\"24px\">\n",
              "    <g>\n",
              "        <path d=\"M19 3H5c-1.1 0-2 .9-2 2v14c0 1.1.9 2 2 2h14c1.1 0 2-.9 2-2V5c0-1.1-.9-2-2-2zM9 17H7v-7h2v7zm4 0h-2V7h2v10zm4 0h-2v-4h2v4z\"/>\n",
              "    </g>\n",
              "</svg>\n",
              "      </button>\n",
              "\n",
              "<style>\n",
              "  .colab-df-quickchart {\n",
              "      --bg-color: #E8F0FE;\n",
              "      --fill-color: #1967D2;\n",
              "      --hover-bg-color: #E2EBFA;\n",
              "      --hover-fill-color: #174EA6;\n",
              "      --disabled-fill-color: #AAA;\n",
              "      --disabled-bg-color: #DDD;\n",
              "  }\n",
              "\n",
              "  [theme=dark] .colab-df-quickchart {\n",
              "      --bg-color: #3B4455;\n",
              "      --fill-color: #D2E3FC;\n",
              "      --hover-bg-color: #434B5C;\n",
              "      --hover-fill-color: #FFFFFF;\n",
              "      --disabled-bg-color: #3B4455;\n",
              "      --disabled-fill-color: #666;\n",
              "  }\n",
              "\n",
              "  .colab-df-quickchart {\n",
              "    background-color: var(--bg-color);\n",
              "    border: none;\n",
              "    border-radius: 50%;\n",
              "    cursor: pointer;\n",
              "    display: none;\n",
              "    fill: var(--fill-color);\n",
              "    height: 32px;\n",
              "    padding: 0;\n",
              "    width: 32px;\n",
              "  }\n",
              "\n",
              "  .colab-df-quickchart:hover {\n",
              "    background-color: var(--hover-bg-color);\n",
              "    box-shadow: 0 1px 2px rgba(60, 64, 67, 0.3), 0 1px 3px 1px rgba(60, 64, 67, 0.15);\n",
              "    fill: var(--button-hover-fill-color);\n",
              "  }\n",
              "\n",
              "  .colab-df-quickchart-complete:disabled,\n",
              "  .colab-df-quickchart-complete:disabled:hover {\n",
              "    background-color: var(--disabled-bg-color);\n",
              "    fill: var(--disabled-fill-color);\n",
              "    box-shadow: none;\n",
              "  }\n",
              "\n",
              "  .colab-df-spinner {\n",
              "    border: 2px solid var(--fill-color);\n",
              "    border-color: transparent;\n",
              "    border-bottom-color: var(--fill-color);\n",
              "    animation:\n",
              "      spin 1s steps(1) infinite;\n",
              "  }\n",
              "\n",
              "  @keyframes spin {\n",
              "    0% {\n",
              "      border-color: transparent;\n",
              "      border-bottom-color: var(--fill-color);\n",
              "      border-left-color: var(--fill-color);\n",
              "    }\n",
              "    20% {\n",
              "      border-color: transparent;\n",
              "      border-left-color: var(--fill-color);\n",
              "      border-top-color: var(--fill-color);\n",
              "    }\n",
              "    30% {\n",
              "      border-color: transparent;\n",
              "      border-left-color: var(--fill-color);\n",
              "      border-top-color: var(--fill-color);\n",
              "      border-right-color: var(--fill-color);\n",
              "    }\n",
              "    40% {\n",
              "      border-color: transparent;\n",
              "      border-right-color: var(--fill-color);\n",
              "      border-top-color: var(--fill-color);\n",
              "    }\n",
              "    60% {\n",
              "      border-color: transparent;\n",
              "      border-right-color: var(--fill-color);\n",
              "    }\n",
              "    80% {\n",
              "      border-color: transparent;\n",
              "      border-right-color: var(--fill-color);\n",
              "      border-bottom-color: var(--fill-color);\n",
              "    }\n",
              "    90% {\n",
              "      border-color: transparent;\n",
              "      border-bottom-color: var(--fill-color);\n",
              "    }\n",
              "  }\n",
              "</style>\n",
              "\n",
              "      <script>\n",
              "        async function quickchart(key) {\n",
              "          const quickchartButtonEl =\n",
              "            document.querySelector('#' + key + ' button');\n",
              "          quickchartButtonEl.disabled = true;  // To prevent multiple clicks.\n",
              "          quickchartButtonEl.classList.add('colab-df-spinner');\n",
              "          try {\n",
              "            const charts = await google.colab.kernel.invokeFunction(\n",
              "                'suggestCharts', [key], {});\n",
              "          } catch (error) {\n",
              "            console.error('Error during call to suggestCharts:', error);\n",
              "          }\n",
              "          quickchartButtonEl.classList.remove('colab-df-spinner');\n",
              "          quickchartButtonEl.classList.add('colab-df-quickchart-complete');\n",
              "        }\n",
              "        (() => {\n",
              "          let quickchartButtonEl =\n",
              "            document.querySelector('#df-a119480f-bfcf-409a-8eb5-58c9e57604b1 button');\n",
              "          quickchartButtonEl.style.display =\n",
              "            google.colab.kernel.accessAllowed ? 'block' : 'none';\n",
              "        })();\n",
              "      </script>\n",
              "    </div>\n",
              "\n",
              "    </div>\n",
              "  </div>\n"
            ],
            "application/vnd.google.colaboratory.intrinsic+json": {
              "type": "dataframe",
              "variable_name": "expr_df"
            }
          },
          "metadata": {},
          "execution_count": 21
        }
      ]
    },
    {
      "cell_type": "code",
      "source": [
        "# identify the shape of the expr_df dataframe\n",
        "expr_df.shape"
      ],
      "metadata": {
        "id": "pAHP7a5j2oNJ",
        "colab": {
          "base_uri": "https://localhost:8080/"
        },
        "outputId": "ef315a10-b26e-4332-f43c-a8d269349163"
      },
      "execution_count": null,
      "outputs": [
        {
          "output_type": "execute_result",
          "data": {
            "text/plain": [
              "(56840, 31)"
            ]
          },
          "metadata": {},
          "execution_count": 22
        }
      ]
    },
    {
      "cell_type": "code",
      "source": [
        "# call drop_ercc\n",
        "# there may or may not be ERCC records to drop\n",
        "expr_df = drop_ercc(expr_df)\n",
        "expr_df.shape"
      ],
      "metadata": {
        "id": "KdvTv2CR3Fj3",
        "colab": {
          "base_uri": "https://localhost:8080/"
        },
        "outputId": "2047ed49-a17a-4828-bba7-2d0f5a1ea5da"
      },
      "execution_count": null,
      "outputs": [
        {
          "output_type": "execute_result",
          "data": {
            "text/plain": [
              "(56748, 31)"
            ]
          },
          "metadata": {},
          "execution_count": 23
        }
      ]
    },
    {
      "cell_type": "code",
      "source": [
        "# call drop_nans\n",
        "# there may or may not be NaNs to drop\n",
        "expr_df = drop_nans(expr_df)\n",
        "expr_df.shape"
      ],
      "metadata": {
        "id": "m9R771vtJlfY",
        "colab": {
          "base_uri": "https://localhost:8080/"
        },
        "outputId": "a15089cc-9269-4925-d836-da6ae0674403"
      },
      "execution_count": null,
      "outputs": [
        {
          "output_type": "execute_result",
          "data": {
            "text/plain": [
              "(56748, 31)"
            ]
          },
          "metadata": {},
          "execution_count": 24
        }
      ]
    },
    {
      "cell_type": "code",
      "source": [
        "# call drop_lowcount with threshold=50\n",
        "expr_df = drop_lowcount(expr_df, threshold=50)\n",
        "expr_df.shape"
      ],
      "metadata": {
        "id": "JbPKe_Y1IgTq",
        "colab": {
          "base_uri": "https://localhost:8080/"
        },
        "outputId": "d8085c2b-3bd9-4702-9ac2-3c8a9358e388"
      },
      "execution_count": null,
      "outputs": [
        {
          "output_type": "execute_result",
          "data": {
            "text/plain": [
              "(23038, 31)"
            ]
          },
          "metadata": {},
          "execution_count": 25
        }
      ]
    },
    {
      "cell_type": "code",
      "source": [
        "# call filter_cvs with thresh=CV_THRESH\n",
        "expr_df = filter_cvs(expr_df, thresh=CV_THRESH)\n",
        "expr_df.shape"
      ],
      "metadata": {
        "id": "fN5rK3g2IK0A",
        "colab": {
          "base_uri": "https://localhost:8080/",
          "height": 466
        },
        "outputId": "9d1b6cfb-bd1d-4417-e66c-69b552bbc52a"
      },
      "execution_count": null,
      "outputs": [
        {
          "output_type": "execute_result",
          "data": {
            "text/plain": [
              "(6891, 31)"
            ]
          },
          "metadata": {},
          "execution_count": 26
        },
        {
          "output_type": "display_data",
          "data": {
            "text/plain": [
              "<Figure size 640x480 with 1 Axes>"
            ],
            "image/png": "[encoded data removed]"
          },
          "metadata": {}
        }
      ]
    },
    {
      "cell_type": "code",
      "source": [
        "# first save expr_df as genes x samples to file in gdrive for use in next notebook\n",
        "expr_df.to_csv(DGEA_DIR + '/expr_df.csv', sep=',', index=None)"
      ],
      "metadata": {
        "id": "CJuiDrboQyY_"
      },
      "execution_count": null,
      "outputs": []
    },
    {
      "cell_type": "code",
      "source": [
        "# then transpose expr_df to be samples x genes\n",
        "expr_df = transpose_df(expr_df, 'Unnamed: 0', 'sample')\n",
        "expr_df.head()"
      ],
      "metadata": {
        "id": "FvCzUupYNX30",
        "colab": {
          "base_uri": "https://localhost:8080/",
          "height": 256
        },
        "outputId": "8d7deb92-5544-4360-bbd0-cde2030485b1"
      },
      "execution_count": null,
      "outputs": [
        {
          "output_type": "execute_result",
          "data": {
            "text/plain": [
              "                     sample  ENSMUSG00000000031  ENSMUSG00000000037  \\\n",
              "0  RR23_KDN_FLT_F1_techrep1                   3                   7   \n",
              "1  RR23_KDN_FLT_F1_techrep2                   1                   8   \n",
              "2           RR23_KDN_FLT_F2                   0                   4   \n",
              "3           RR23_KDN_FLT_F3                   0                   5   \n",
              "4           RR23_KDN_FLT_F4                   1                   6   \n",
              "\n",
              "   ENSMUSG00000000120  ENSMUSG00000000142  ENSMUSG00000000197  \\\n",
              "0                  24                  66                   7   \n",
              "1                  22                  69                  13   \n",
              "2                  21                  88                  19   \n",
              "3                   7                  20                  15   \n",
              "4                  16                  56                  35   \n",
              "\n",
              "   ENSMUSG00000000204  ENSMUSG00000000223  ENSMUSG00000000318  \\\n",
              "0                   7                   7                  75   \n",
              "1                   4                   3                  70   \n",
              "2                   9                   1                  31   \n",
              "3                   7                   2                  15   \n",
              "4                  15                   2                  53   \n",
              "\n",
              "   ENSMUSG00000000359  ...  ENSMUSG00002076804  ENSMUSG00002076809  \\\n",
              "0                 141  ...                   0                 561   \n",
              "1                 153  ...                   1                 469   \n",
              "2                 254  ...                   2                 614   \n",
              "3                 120  ...                   3                 457   \n",
              "4                 205  ...                   3                 403   \n",
              "\n",
              "   ENSMUSG00002076820  ENSMUSG00002076842  ENSMUSG00002076859  \\\n",
              "0                   1                   2                   4   \n",
              "1                   1                   0                   4   \n",
              "2                   3                   1                   6   \n",
              "3                   2                   0                   3   \n",
              "4                   1                   6                   6   \n",
              "\n",
              "   ENSMUSG00002076860  ENSMUSG00002076874  ENSMUSG00002076902  \\\n",
              "0                   1                   6                   3   \n",
              "1                   2                  10                   5   \n",
              "2                   1                   5                   7   \n",
              "3                   2                   6                   4   \n",
              "4                   5                  10                  10   \n",
              "\n",
              "   ENSMUSG00002076903  ENSMUSG00002076983  \n",
              "0                   1                   3  \n",
              "1                   2                   5  \n",
              "2                   2                  12  \n",
              "3                   2                   2  \n",
              "4                   3                   7  \n",
              "\n",
              "[5 rows x 6892 columns]"
            ],
            "text/html": [
              "\n",
              "  <div id=\"df-48ad8551-c2a5-41f0-8c1f-c5d1b34f0ac6\" class=\"colab-df-container\">\n",
              "    <div>\n",
              "<style scoped>\n",
              "    .dataframe tbody tr th:only-of-type {\n",
              "        vertical-align: middle;\n",
              "    }\n",
              "\n",
              "    .dataframe tbody tr th {\n",
              "        vertical-align: top;\n",
              "    }\n",
              "\n",
              "    .dataframe thead th {\n",
              "        text-align: right;\n",
              "    }\n",
              "</style>\n",
              "<table border=\"1\" class=\"dataframe\">\n",
              "  <thead>\n",
              "    <tr style=\"text-align: right;\">\n",
              "      <th></th>\n",
              "      <th>sample</th>\n",
              "      <th>ENSMUSG00000000031</th>\n",
              "      <th>ENSMUSG00000000037</th>\n",
              "      <th>ENSMUSG00000000120</th>\n",
              "      <th>ENSMUSG00000000142</th>\n",
              "      <th>ENSMUSG00000000197</th>\n",
              "      <th>ENSMUSG00000000204</th>\n",
              "      <th>ENSMUSG00000000223</th>\n",
              "      <th>ENSMUSG00000000318</th>\n",
              "      <th>ENSMUSG00000000359</th>\n",
              "      <th>...</th>\n",
              "      <th>ENSMUSG00002076804</th>\n",
              "      <th>ENSMUSG00002076809</th>\n",
              "      <th>ENSMUSG00002076820</th>\n",
              "      <th>ENSMUSG00002076842</th>\n",
              "      <th>ENSMUSG00002076859</th>\n",
              "      <th>ENSMUSG00002076860</th>\n",
              "      <th>ENSMUSG00002076874</th>\n",
              "      <th>ENSMUSG00002076902</th>\n",
              "      <th>ENSMUSG00002076903</th>\n",
              "      <th>ENSMUSG00002076983</th>\n",
              "    </tr>\n",
              "  </thead>\n",
              "  <tbody>\n",
              "    <tr>\n",
              "      <th>0</th>\n",
              "      <td>RR23_KDN_FLT_F1_techrep1</td>\n",
              "      <td>3</td>\n",
              "      <td>7</td>\n",
              "      <td>24</td>\n",
              "      <td>66</td>\n",
              "      <td>7</td>\n",
              "      <td>7</td>\n",
              "      <td>7</td>\n",
              "      <td>75</td>\n",
              "      <td>141</td>\n",
              "      <td>...</td>\n",
              "      <td>0</td>\n",
              "      <td>561</td>\n",
              "      <td>1</td>\n",
              "      <td>2</td>\n",
              "      <td>4</td>\n",
              "      <td>1</td>\n",
              "      <td>6</td>\n",
              "      <td>3</td>\n",
              "      <td>1</td>\n",
              "      <td>3</td>\n",
              "    </tr>\n",
              "    <tr>\n",
              "      <th>1</th>\n",
              "      <td>RR23_KDN_FLT_F1_techrep2</td>\n",
              "      <td>1</td>\n",
              "      <td>8</td>\n",
              "      <td>22</td>\n",
              "      <td>69</td>\n",
              "      <td>13</td>\n",
              "      <td>4</td>\n",
              "      <td>3</td>\n",
              "      <td>70</td>\n",
              "      <td>153</td>\n",
              "      <td>...</td>\n",
              "      <td>1</td>\n",
              "      <td>469</td>\n",
              "      <td>1</td>\n",
              "      <td>0</td>\n",
              "      <td>4</td>\n",
              "      <td>2</td>\n",
              "      <td>10</td>\n",
              "      <td>5</td>\n",
              "      <td>2</td>\n",
              "      <td>5</td>\n",
              "    </tr>\n",
              "    <tr>\n",
              "      <th>2</th>\n",
              "      <td>RR23_KDN_FLT_F2</td>\n",
              "      <td>0</td>\n",
              "      <td>4</td>\n",
              "      <td>21</td>\n",
              "      <td>88</td>\n",
              "      <td>19</td>\n",
              "      <td>9</td>\n",
              "      <td>1</td>\n",
              "      <td>31</td>\n",
              "      <td>254</td>\n",
              "      <td>...</td>\n",
              "      <td>2</td>\n",
              "      <td>614</td>\n",
              "      <td>3</td>\n",
              "      <td>1</td>\n",
              "      <td>6</td>\n",
              "      <td>1</td>\n",
              "      <td>5</td>\n",
              "      <td>7</td>\n",
              "      <td>2</td>\n",
              "      <td>12</td>\n",
              "    </tr>\n",
              "    <tr>\n",
              "      <th>3</th>\n",
              "      <td>RR23_KDN_FLT_F3</td>\n",
              "      <td>0</td>\n",
              "      <td>5</td>\n",
              "      <td>7</td>\n",
              "      <td>20</td>\n",
              "      <td>15</td>\n",
              "      <td>7</td>\n",
              "      <td>2</td>\n",
              "      <td>15</td>\n",
              "      <td>120</td>\n",
              "      <td>...</td>\n",
              "      <td>3</td>\n",
              "      <td>457</td>\n",
              "      <td>2</td>\n",
              "      <td>0</td>\n",
              "      <td>3</td>\n",
              "      <td>2</td>\n",
              "      <td>6</td>\n",
              "      <td>4</td>\n",
              "      <td>2</td>\n",
              "      <td>2</td>\n",
              "    </tr>\n",
              "    <tr>\n",
              "      <th>4</th>\n",
              "      <td>RR23_KDN_FLT_F4</td>\n",
              "      <td>1</td>\n",
              "      <td>6</td>\n",
              "      <td>16</td>\n",
              "      <td>56</td>\n",
              "      <td>35</td>\n",
              "      <td>15</td>\n",
              "      <td>2</td>\n",
              "      <td>53</td>\n",
              "      <td>205</td>\n",
              "      <td>...</td>\n",
              "      <td>3</td>\n",
              "      <td>403</td>\n",
              "      <td>1</td>\n",
              "      <td>6</td>\n",
              "      <td>6</td>\n",
              "      <td>5</td>\n",
              "      <td>10</td>\n",
              "      <td>10</td>\n",
              "      <td>3</td>\n",
              "      <td>7</td>\n",
              "    </tr>\n",
              "  </tbody>\n",
              "</table>\n",
              "<p>5 rows × 6892 columns</p>\n",
              "</div>\n",
              "    <div class=\"colab-df-buttons\">\n",
              "\n",
              "  <div class=\"colab-df-container\">\n",
              "    <button class=\"colab-df-convert\" onclick=\"convertToInteractive('df-48ad8551-c2a5-41f0-8c1f-c5d1b34f0ac6')\"\n",
              "            title=\"Convert this dataframe to an interactive table.\"\n",
              "            style=\"display:none;\">\n",
              "\n",
              "  <svg xmlns=\"http://www.w3.org/2000/svg\" height=\"24px\" viewBox=\"0 -960 960 960\">\n",
              "    <path d=\"M120-120v-720h720v720H120Zm60-500h600v-160H180v160Zm220 220h160v-160H400v160Zm0 220h160v-160H400v160ZM180-400h160v-160H180v160Zm440 0h160v-160H620v160ZM180-180h160v-160H180v160Zm440 0h160v-160H620v160Z\"/>\n",
              "  </svg>\n",
              "    </button>\n",
              "\n",
              "  <style>\n",
              "    .colab-df-container {\n",
              "      display:flex;\n",
              "      gap: 12px;\n",
              "    }\n",
              "\n",
              "    .colab-df-convert {\n",
              "      background-color: #E8F0FE;\n",
              "      border: none;\n",
              "      border-radius: 50%;\n",
              "      cursor: pointer;\n",
              "      display: none;\n",
              "      fill: #1967D2;\n",
              "      height: 32px;\n",
              "      padding: 0 0 0 0;\n",
              "      width: 32px;\n",
              "    }\n",
              "\n",
              "    .colab-df-convert:hover {\n",
              "      background-color: #E2EBFA;\n",
              "      box-shadow: 0px 1px 2px rgba(60, 64, 67, 0.3), 0px 1px 3px 1px rgba(60, 64, 67, 0.15);\n",
              "      fill: #174EA6;\n",
              "    }\n",
              "\n",
              "    .colab-df-buttons div {\n",
              "      margin-bottom: 4px;\n",
              "    }\n",
              "\n",
              "    [theme=dark] .colab-df-convert {\n",
              "      background-color: #3B4455;\n",
              "      fill: #D2E3FC;\n",
              "    }\n",
              "\n",
              "    [theme=dark] .colab-df-convert:hover {\n",
              "      background-color: #434B5C;\n",
              "      box-shadow: 0px 1px 3px 1px rgba(0, 0, 0, 0.15);\n",
              "      filter: drop-shadow(0px 1px 2px rgba(0, 0, 0, 0.3));\n",
              "      fill: #FFFFFF;\n",
              "    }\n",
              "  </style>\n",
              "\n",
              "    <script>\n",
              "      const buttonEl =\n",
              "        document.querySelector('#df-48ad8551-c2a5-41f0-8c1f-c5d1b34f0ac6 button.colab-df-convert');\n",
              "      buttonEl.style.display =\n",
              "        google.colab.kernel.accessAllowed ? 'block' : 'none';\n",
              "\n",
              "      async function convertToInteractive(key) {\n",
              "        const element = document.querySelector('#df-48ad8551-c2a5-41f0-8c1f-c5d1b34f0ac6');\n",
              "        const dataTable =\n",
              "          await google.colab.kernel.invokeFunction('convertToInteractive',\n",
              "                                                    [key], {});\n",
              "        if (!dataTable) return;\n",
              "\n",
              "        const docLinkHtml = 'Like what you see? Visit the ' +\n",
              "          '<a target=\"_blank\" href=https://colab.research.google.com/notebooks/data_table.ipynb>data table notebook</a>'\n",
              "          + ' to learn more about interactive tables.';\n",
              "        element.innerHTML = '';\n",
              "        dataTable['output_type'] = 'display_data';\n",
              "        await google.colab.output.renderOutput(dataTable, element);\n",
              "        const docLink = document.createElement('div');\n",
              "        docLink.innerHTML = docLinkHtml;\n",
              "        element.appendChild(docLink);\n",
              "      }\n",
              "    </script>\n",
              "  </div>\n",
              "\n",
              "\n",
              "    <div id=\"df-0fe5734e-85af-4ff3-96e0-8ebc793c9be0\">\n",
              "      <button class=\"colab-df-quickchart\" onclick=\"quickchart('df-0fe5734e-85af-4ff3-96e0-8ebc793c9be0')\"\n",
              "                title=\"Suggest charts\"\n",
              "                style=\"display:none;\">\n",
              "\n",
              "<svg xmlns=\"http://www.w3.org/2000/svg\" height=\"24px\"viewBox=\"0 0 24 24\"\n",
              "     width=\"24px\">\n",
              "    <g>\n",
              "        <path d=\"M19 3H5c-1.1 0-2 .9-2 2v14c0 1.1.9 2 2 2h14c1.1 0 2-.9 2-2V5c0-1.1-.9-2-2-2zM9 17H7v-7h2v7zm4 0h-2V7h2v10zm4 0h-2v-4h2v4z\"/>\n",
              "    </g>\n",
              "</svg>\n",
              "      </button>\n",
              "\n",
              "<style>\n",
              "  .colab-df-quickchart {\n",
              "      --bg-color: #E8F0FE;\n",
              "      --fill-color: #1967D2;\n",
              "      --hover-bg-color: #E2EBFA;\n",
              "      --hover-fill-color: #174EA6;\n",
              "      --disabled-fill-color: #AAA;\n",
              "      --disabled-bg-color: #DDD;\n",
              "  }\n",
              "\n",
              "  [theme=dark] .colab-df-quickchart {\n",
              "      --bg-color: #3B4455;\n",
              "      --fill-color: #D2E3FC;\n",
              "      --hover-bg-color: #434B5C;\n",
              "      --hover-fill-color: #FFFFFF;\n",
              "      --disabled-bg-color: #3B4455;\n",
              "      --disabled-fill-color: #666;\n",
              "  }\n",
              "\n",
              "  .colab-df-quickchart {\n",
              "    background-color: var(--bg-color);\n",
              "    border: none;\n",
              "    border-radius: 50%;\n",
              "    cursor: pointer;\n",
              "    display: none;\n",
              "    fill: var(--fill-color);\n",
              "    height: 32px;\n",
              "    padding: 0;\n",
              "    width: 32px;\n",
              "  }\n",
              "\n",
              "  .colab-df-quickchart:hover {\n",
              "    background-color: var(--hover-bg-color);\n",
              "    box-shadow: 0 1px 2px rgba(60, 64, 67, 0.3), 0 1px 3px 1px rgba(60, 64, 67, 0.15);\n",
              "    fill: var(--button-hover-fill-color);\n",
              "  }\n",
              "\n",
              "  .colab-df-quickchart-complete:disabled,\n",
              "  .colab-df-quickchart-complete:disabled:hover {\n",
              "    background-color: var(--disabled-bg-color);\n",
              "    fill: var(--disabled-fill-color);\n",
              "    box-shadow: none;\n",
              "  }\n",
              "\n",
              "  .colab-df-spinner {\n",
              "    border: 2px solid var(--fill-color);\n",
              "    border-color: transparent;\n",
              "    border-bottom-color: var(--fill-color);\n",
              "    animation:\n",
              "      spin 1s steps(1) infinite;\n",
              "  }\n",
              "\n",
              "  @keyframes spin {\n",
              "    0% {\n",
              "      border-color: transparent;\n",
              "      border-bottom-color: var(--fill-color);\n",
              "      border-left-color: var(--fill-color);\n",
              "    }\n",
              "    20% {\n",
              "      border-color: transparent;\n",
              "      border-left-color: var(--fill-color);\n",
              "      border-top-color: var(--fill-color);\n",
              "    }\n",
              "    30% {\n",
              "      border-color: transparent;\n",
              "      border-left-color: var(--fill-color);\n",
              "      border-top-color: var(--fill-color);\n",
              "      border-right-color: var(--fill-color);\n",
              "    }\n",
              "    40% {\n",
              "      border-color: transparent;\n",
              "      border-right-color: var(--fill-color);\n",
              "      border-top-color: var(--fill-color);\n",
              "    }\n",
              "    60% {\n",
              "      border-color: transparent;\n",
              "      border-right-color: var(--fill-color);\n",
              "    }\n",
              "    80% {\n",
              "      border-color: transparent;\n",
              "      border-right-color: var(--fill-color);\n",
              "      border-bottom-color: var(--fill-color);\n",
              "    }\n",
              "    90% {\n",
              "      border-color: transparent;\n",
              "      border-bottom-color: var(--fill-color);\n",
              "    }\n",
              "  }\n",
              "</style>\n",
              "\n",
              "      <script>\n",
              "        async function quickchart(key) {\n",
              "          const quickchartButtonEl =\n",
              "            document.querySelector('#' + key + ' button');\n",
              "          quickchartButtonEl.disabled = true;  // To prevent multiple clicks.\n",
              "          quickchartButtonEl.classList.add('colab-df-spinner');\n",
              "          try {\n",
              "            const charts = await google.colab.kernel.invokeFunction(\n",
              "                'suggestCharts', [key], {});\n",
              "          } catch (error) {\n",
              "            console.error('Error during call to suggestCharts:', error);\n",
              "          }\n",
              "          quickchartButtonEl.classList.remove('colab-df-spinner');\n",
              "          quickchartButtonEl.classList.add('colab-df-quickchart-complete');\n",
              "        }\n",
              "        (() => {\n",
              "          let quickchartButtonEl =\n",
              "            document.querySelector('#df-0fe5734e-85af-4ff3-96e0-8ebc793c9be0 button');\n",
              "          quickchartButtonEl.style.display =\n",
              "            google.colab.kernel.accessAllowed ? 'block' : 'none';\n",
              "        })();\n",
              "      </script>\n",
              "    </div>\n",
              "\n",
              "    </div>\n",
              "  </div>\n"
            ],
            "application/vnd.google.colaboratory.intrinsic+json": {
              "type": "dataframe",
              "variable_name": "expr_df"
            }
          },
          "metadata": {},
          "execution_count": 28
        }
      ]
    },
    {
      "cell_type": "code",
      "source": [
        "# determine the shape of the transposed expr_df dataframe\n",
        "expr_df.shape"
      ],
      "metadata": {
        "id": "8wcQSEJ_2w6a",
        "colab": {
          "base_uri": "https://localhost:8080/"
        },
        "outputId": "f694e672-41af-4fb2-d637-2131da2e54bf"
      },
      "execution_count": null,
      "outputs": [
        {
          "output_type": "execute_result",
          "data": {
            "text/plain": [
              "(30, 6892)"
            ]
          },
          "metadata": {},
          "execution_count": 29
        }
      ]
    },
    {
      "cell_type": "code",
      "source": [
        "# read in  metadata\n",
        "\n",
        "# NOTE: if you get an error (HTTP 404) in this cell, then open the link at the top of this section,\n",
        "# find and copy the exact URL for the metadata ZIP file for your dataset, and replace the\n",
        "# url variable below with the exact URL for your dataset.\n",
        "# IMPORTANT NOTE: if you paste the URL from the OSDR Web page, then you need to insert the\n",
        "# backslash (\"\\\") character before the ampersand (\"&\") and the question mark (\"?\")\n",
        "# in the url string, as shown in the example here.\n",
        "\n",
        "url = 'https://osdr.nasa.gov/geode-py/ws/studies/OSD-' + OSD_DATASET + \\\n",
        "  '/download\\?source=datamanager\\&file=OSD-' + OSD_DATASET + '_metadata_OSD-' + GLDS_DATASET + '-ISA.zip'\n",
        "\n",
        "\n",
        "    #'/download\\?source=datamanager\\&file=OSD-' + OSD_DATASET + '_metadata_OSD-' + OSD_DATASET + '-ISA.zip'\n",
        "    #'/download\\?source=datamanager\\&file=GLDS-' + OSD_DATASET + '_metadata_GLDS-' + GLDS_DATASET + '-ISA.zip'\n",
        "    #'/download\\?source=datamanager\\&file=OSD-' + OSD_DATASET + '_metadata_GLDS-' + GLDS_DATASET + '-ISA.zip'\n",
        "    #'/download\\?source=datamanager\\&file=OSD-' + OSD_DATASET + '_metadata_OSD-' + GLDS_DATASET + '-ISA.zip'\n",
        "\n",
        "\n",
        "!curl -L {url} -o  {META_DIR}/metadata-{OSD_DATASET}.zip\n",
        "!unzip -o {META_DIR}/metadata-{OSD_DATASET}.zip -d {META_DIR}"
      ],
      "metadata": {
        "id": "GS_GaujR7OF1",
        "colab": {
          "base_uri": "https://localhost:8080/"
        },
        "outputId": "203cc0ca-bbec-47a2-9812-b78e01cad872"
      },
      "execution_count": null,
      "outputs": [
        {
          "output_type": "stream",
          "name": "stdout",
          "text": [
            "  % Total    % Received % Xferd  Average Speed   Time    Time     Time  Current\n",
            "                                 Dload  Upload   Total   Spent    Left  Speed\n",
            "100  3718  100  3718    0     0   3521      0  0:00:01  0:00:01 --:--:--  3524\n",
            "100  161k  100  161k    0     0   106k      0  0:00:01  0:00:01 --:--:-- 59.4M\n",
            "Archive:  /content/mnt/MyDrive/NASA/GL4HS/CAPSTONE/513/FLT_vs_GC/META//metadata-513.zip\n",
            " extracting: /content/mnt/MyDrive/NASA/GL4HS/CAPSTONE/513/FLT_vs_GC/META/a_OSD-513_transcription-profiling_rna-sequencing-(rna-seq)_illumina.txt  \n",
            " extracting: /content/mnt/MyDrive/NASA/GL4HS/CAPSTONE/513/FLT_vs_GC/META/s_OSD-513.txt  \n",
            " extracting: /content/mnt/MyDrive/NASA/GL4HS/CAPSTONE/513/FLT_vs_GC/META/i_Investigation.txt  \n"
          ]
        }
      ]
    },
    {
      "cell_type": "code",
      "source": [
        "# check metadata\n",
        "#meta_df = pd.read_csv(f\"{META_DIR}/s_OSD-\" + OSD_DATASET + \".txt\", sep='\\t')\n",
        "meta_df = pd.read_csv(f\"{META_DIR}/s_OSD-\" + OSD_DATASET + \".txt\", sep='\\t')\n",
        "meta_df.head()\n",
        "#meta_df = pd.read_csv(f\"{META_DIR}/\" + \"s_RR6_LVR.txt\", sep='\\t')\n",
        "#meta_df = pd.read_csv(f\"{META_DIR}\" + \"/s_RR7_SKN.txt\", sep='\\t')\n",
        "meta_df.head()\n"
      ],
      "metadata": {
        "id": "1FQ_iTHrOQjw",
        "colab": {
          "base_uri": "https://localhost:8080/",
          "height": 377
        },
        "outputId": "6eaf12e9-274a-4740-91f2-c339fa49750e"
      },
      "execution_count": null,
      "outputs": [
        {
          "output_type": "execute_result",
          "data": {
            "text/plain": [
              "  Source Name               Sample Name Characteristics[Organism]  \\\n",
              "0    RR-23_F1  RR23_KDN_FLT_F1_techrep1              Mus musculus   \n",
              "1    RR-23_F1  RR23_KDN_FLT_F1_techrep2              Mus musculus   \n",
              "2    RR-23_F2           RR23_KDN_FLT_F2              Mus musculus   \n",
              "3    RR-23_F3           RR23_KDN_FLT_F3              Mus musculus   \n",
              "4    RR-23_F4           RR23_KDN_FLT_F4              Mus musculus   \n",
              "\n",
              "  Term Source REF                              Term Accession Number  \\\n",
              "0       NCBITAXON  http://purl.bioontology.org/ontology/NCBITAXON...   \n",
              "1       NCBITAXON  http://purl.bioontology.org/ontology/NCBITAXON...   \n",
              "2       NCBITAXON  http://purl.bioontology.org/ontology/NCBITAXON...   \n",
              "3       NCBITAXON  http://purl.bioontology.org/ontology/NCBITAXON...   \n",
              "4       NCBITAXON  http://purl.bioontology.org/ontology/NCBITAXON...   \n",
              "\n",
              "  Characteristics[Strain] Term Source REF.1  \\\n",
              "0                C57BL/6J               EFO   \n",
              "1                C57BL/6J               EFO   \n",
              "2                C57BL/6J               EFO   \n",
              "3                C57BL/6J               EFO   \n",
              "4                C57BL/6J               EFO   \n",
              "\n",
              "                Term Accession Number.1 Characteristics[Animal Source]  \\\n",
              "0  http://www.ebi.ac.uk/efo/EFO_0000606             Jackson Laboratory   \n",
              "1  http://www.ebi.ac.uk/efo/EFO_0000606             Jackson Laboratory   \n",
              "2  http://www.ebi.ac.uk/efo/EFO_0000606             Jackson Laboratory   \n",
              "3  http://www.ebi.ac.uk/efo/EFO_0000606             Jackson Laboratory   \n",
              "4  http://www.ebi.ac.uk/efo/EFO_0000606             Jackson Laboratory   \n",
              "\n",
              "  Characteristics[Genotype]  ... Term Source REF.16  \\\n",
              "0                 Wild Type  ...                RBO   \n",
              "1                 Wild Type  ...                RBO   \n",
              "2                 Wild Type  ...                RBO   \n",
              "3                 Wild Type  ...                RBO   \n",
              "4                 Wild Type  ...                RBO   \n",
              "\n",
              "                       Term Accession Number.16 Parameter Value[vehicle]  \\\n",
              "0  http://purl.obolibrary.org/obo/ENVO_01000637        ISS-US Laboratory   \n",
              "1  http://purl.obolibrary.org/obo/ENVO_01000637        ISS-US Laboratory   \n",
              "2  http://purl.obolibrary.org/obo/ENVO_01000637        ISS-US Laboratory   \n",
              "3  http://purl.obolibrary.org/obo/ENVO_01000637        ISS-US Laboratory   \n",
              "4  http://purl.obolibrary.org/obo/ENVO_01000637        ISS-US Laboratory   \n",
              "\n",
              "  Term Source REF.17                     Term Accession Number.17  \\\n",
              "0                RBO  http://purl.obolibrary.org/obo/RBO_00000040   \n",
              "1                RBO  http://purl.obolibrary.org/obo/RBO_00000040   \n",
              "2                RBO  http://purl.obolibrary.org/obo/RBO_00000040   \n",
              "3                RBO  http://purl.obolibrary.org/obo/RBO_00000040   \n",
              "4                RBO  http://purl.obolibrary.org/obo/RBO_00000040   \n",
              "\n",
              "  Comment[RFID] Comment[ALSDA Subject ID] Comment[Euthanasia Date]  \\\n",
              "0          4664                       741              14-Jan-2021   \n",
              "1          4664                       741              14-Jan-2021   \n",
              "2          4A2E                       741              14-Jan-2021   \n",
              "3          5F2B                       741              14-Jan-2021   \n",
              "4          274D                       741              14-Jan-2021   \n",
              "\n",
              "  Comment[BSP Dissection Date] Comment[Source Description]  \n",
              "0                  14-Jan-2021          Live animal return  \n",
              "1                  14-Jan-2021          Live animal return  \n",
              "2                  14-Jan-2021          Live animal return  \n",
              "3                  14-Jan-2021          Live animal return  \n",
              "4                  14-Jan-2021          Live animal return  \n",
              "\n",
              "[5 rows x 77 columns]"
            ],
            "text/html": [
              "\n",
              "  <div id=\"df-db6b537a-10b1-4c0f-82f0-a5ab5c405e80\" class=\"colab-df-container\">\n",
              "    <div>\n",
              "<style scoped>\n",
              "    .dataframe tbody tr th:only-of-type {\n",
              "        vertical-align: middle;\n",
              "    }\n",
              "\n",
              "    .dataframe tbody tr th {\n",
              "        vertical-align: top;\n",
              "    }\n",
              "\n",
              "    .dataframe thead th {\n",
              "        text-align: right;\n",
              "    }\n",
              "</style>\n",
              "<table border=\"1\" class=\"dataframe\">\n",
              "  <thead>\n",
              "    <tr style=\"text-align: right;\">\n",
              "      <th></th>\n",
              "      <th>Source Name</th>\n",
              "      <th>Sample Name</th>\n",
              "      <th>Characteristics[Organism]</th>\n",
              "      <th>Term Source REF</th>\n",
              "      <th>Term Accession Number</th>\n",
              "      <th>Characteristics[Strain]</th>\n",
              "      <th>Term Source REF.1</th>\n",
              "      <th>Term Accession Number.1</th>\n",
              "      <th>Characteristics[Animal Source]</th>\n",
              "      <th>Characteristics[Genotype]</th>\n",
              "      <th>...</th>\n",
              "      <th>Term Source REF.16</th>\n",
              "      <th>Term Accession Number.16</th>\n",
              "      <th>Parameter Value[vehicle]</th>\n",
              "      <th>Term Source REF.17</th>\n",
              "      <th>Term Accession Number.17</th>\n",
              "      <th>Comment[RFID]</th>\n",
              "      <th>Comment[ALSDA Subject ID]</th>\n",
              "      <th>Comment[Euthanasia Date]</th>\n",
              "      <th>Comment[BSP Dissection Date]</th>\n",
              "      <th>Comment[Source Description]</th>\n",
              "    </tr>\n",
              "  </thead>\n",
              "  <tbody>\n",
              "    <tr>\n",
              "      <th>0</th>\n",
              "      <td>RR-23_F1</td>\n",
              "      <td>RR23_KDN_FLT_F1_techrep1</td>\n",
              "      <td>Mus musculus</td>\n",
              "      <td>NCBITAXON</td>\n",
              "      <td>http://purl.bioontology.org/ontology/NCBITAXON...</td>\n",
              "      <td>C57BL/6J</td>\n",
              "      <td>EFO</td>\n",
              "      <td>http://www.ebi.ac.uk/efo/EFO_0000606</td>\n",
              "      <td>Jackson Laboratory</td>\n",
              "      <td>Wild Type</td>\n",
              "      <td>...</td>\n",
              "      <td>RBO</td>\n",
              "      <td>http://purl.obolibrary.org/obo/ENVO_01000637</td>\n",
              "      <td>ISS-US Laboratory</td>\n",
              "      <td>RBO</td>\n",
              "      <td>http://purl.obolibrary.org/obo/RBO_00000040</td>\n",
              "      <td>4664</td>\n",
              "      <td>741</td>\n",
              "      <td>14-Jan-2021</td>\n",
              "      <td>14-Jan-2021</td>\n",
              "      <td>Live animal return</td>\n",
              "    </tr>\n",
              "    <tr>\n",
              "      <th>1</th>\n",
              "      <td>RR-23_F1</td>\n",
              "      <td>RR23_KDN_FLT_F1_techrep2</td>\n",
              "      <td>Mus musculus</td>\n",
              "      <td>NCBITAXON</td>\n",
              "      <td>http://purl.bioontology.org/ontology/NCBITAXON...</td>\n",
              "      <td>C57BL/6J</td>\n",
              "      <td>EFO</td>\n",
              "      <td>http://www.ebi.ac.uk/efo/EFO_0000606</td>\n",
              "      <td>Jackson Laboratory</td>\n",
              "      <td>Wild Type</td>\n",
              "      <td>...</td>\n",
              "      <td>RBO</td>\n",
              "      <td>http://purl.obolibrary.org/obo/ENVO_01000637</td>\n",
              "      <td>ISS-US Laboratory</td>\n",
              "      <td>RBO</td>\n",
              "      <td>http://purl.obolibrary.org/obo/RBO_00000040</td>\n",
              "      <td>4664</td>\n",
              "      <td>741</td>\n",
              "      <td>14-Jan-2021</td>\n",
              "      <td>14-Jan-2021</td>\n",
              "      <td>Live animal return</td>\n",
              "    </tr>\n",
              "    <tr>\n",
              "      <th>2</th>\n",
              "      <td>RR-23_F2</td>\n",
              "      <td>RR23_KDN_FLT_F2</td>\n",
              "      <td>Mus musculus</td>\n",
              "      <td>NCBITAXON</td>\n",
              "      <td>http://purl.bioontology.org/ontology/NCBITAXON...</td>\n",
              "      <td>C57BL/6J</td>\n",
              "      <td>EFO</td>\n",
              "      <td>http://www.ebi.ac.uk/efo/EFO_0000606</td>\n",
              "      <td>Jackson Laboratory</td>\n",
              "      <td>Wild Type</td>\n",
              "      <td>...</td>\n",
              "      <td>RBO</td>\n",
              "      <td>http://purl.obolibrary.org/obo/ENVO_01000637</td>\n",
              "      <td>ISS-US Laboratory</td>\n",
              "      <td>RBO</td>\n",
              "      <td>http://purl.obolibrary.org/obo/RBO_00000040</td>\n",
              "      <td>4A2E</td>\n",
              "      <td>741</td>\n",
              "      <td>14-Jan-2021</td>\n",
              "      <td>14-Jan-2021</td>\n",
              "      <td>Live animal return</td>\n",
              "    </tr>\n",
              "    <tr>\n",
              "      <th>3</th>\n",
              "      <td>RR-23_F3</td>\n",
              "      <td>RR23_KDN_FLT_F3</td>\n",
              "      <td>Mus musculus</td>\n",
              "      <td>NCBITAXON</td>\n",
              "      <td>http://purl.bioontology.org/ontology/NCBITAXON...</td>\n",
              "      <td>C57BL/6J</td>\n",
              "      <td>EFO</td>\n",
              "      <td>http://www.ebi.ac.uk/efo/EFO_0000606</td>\n",
              "      <td>Jackson Laboratory</td>\n",
              "      <td>Wild Type</td>\n",
              "      <td>...</td>\n",
              "      <td>RBO</td>\n",
              "      <td>http://purl.obolibrary.org/obo/ENVO_01000637</td>\n",
              "      <td>ISS-US Laboratory</td>\n",
              "      <td>RBO</td>\n",
              "      <td>http://purl.obolibrary.org/obo/RBO_00000040</td>\n",
              "      <td>5F2B</td>\n",
              "      <td>741</td>\n",
              "      <td>14-Jan-2021</td>\n",
              "      <td>14-Jan-2021</td>\n",
              "      <td>Live animal return</td>\n",
              "    </tr>\n",
              "    <tr>\n",
              "      <th>4</th>\n",
              "      <td>RR-23_F4</td>\n",
              "      <td>RR23_KDN_FLT_F4</td>\n",
              "      <td>Mus musculus</td>\n",
              "      <td>NCBITAXON</td>\n",
              "      <td>http://purl.bioontology.org/ontology/NCBITAXON...</td>\n",
              "      <td>C57BL/6J</td>\n",
              "      <td>EFO</td>\n",
              "      <td>http://www.ebi.ac.uk/efo/EFO_0000606</td>\n",
              "      <td>Jackson Laboratory</td>\n",
              "      <td>Wild Type</td>\n",
              "      <td>...</td>\n",
              "      <td>RBO</td>\n",
              "      <td>http://purl.obolibrary.org/obo/ENVO_01000637</td>\n",
              "      <td>ISS-US Laboratory</td>\n",
              "      <td>RBO</td>\n",
              "      <td>http://purl.obolibrary.org/obo/RBO_00000040</td>\n",
              "      <td>274D</td>\n",
              "      <td>741</td>\n",
              "      <td>14-Jan-2021</td>\n",
              "      <td>14-Jan-2021</td>\n",
              "      <td>Live animal return</td>\n",
              "    </tr>\n",
              "  </tbody>\n",
              "</table>\n",
              "<p>5 rows × 77 columns</p>\n",
              "</div>\n",
              "    <div class=\"colab-df-buttons\">\n",
              "\n",
              "  <div class=\"colab-df-container\">\n",
              "    <button class=\"colab-df-convert\" onclick=\"convertToInteractive('df-db6b537a-10b1-4c0f-82f0-a5ab5c405e80')\"\n",
              "            title=\"Convert this dataframe to an interactive table.\"\n",
              "            style=\"display:none;\">\n",
              "\n",
              "  <svg xmlns=\"http://www.w3.org/2000/svg\" height=\"24px\" viewBox=\"0 -960 960 960\">\n",
              "    <path d=\"M120-120v-720h720v720H120Zm60-500h600v-160H180v160Zm220 220h160v-160H400v160Zm0 220h160v-160H400v160ZM180-400h160v-160H180v160Zm440 0h160v-160H620v160ZM180-180h160v-160H180v160Zm440 0h160v-160H620v160Z\"/>\n",
              "  </svg>\n",
              "    </button>\n",
              "\n",
              "  <style>\n",
              "    .colab-df-container {\n",
              "      display:flex;\n",
              "      gap: 12px;\n",
              "    }\n",
              "\n",
              "    .colab-df-convert {\n",
              "      background-color: #E8F0FE;\n",
              "      border: none;\n",
              "      border-radius: 50%;\n",
              "      cursor: pointer;\n",
              "      display: none;\n",
              "      fill: #1967D2;\n",
              "      height: 32px;\n",
              "      padding: 0 0 0 0;\n",
              "      width: 32px;\n",
              "    }\n",
              "\n",
              "    .colab-df-convert:hover {\n",
              "      background-color: #E2EBFA;\n",
              "      box-shadow: 0px 1px 2px rgba(60, 64, 67, 0.3), 0px 1px 3px 1px rgba(60, 64, 67, 0.15);\n",
              "      fill: #174EA6;\n",
              "    }\n",
              "\n",
              "    .colab-df-buttons div {\n",
              "      margin-bottom: 4px;\n",
              "    }\n",
              "\n",
              "    [theme=dark] .colab-df-convert {\n",
              "      background-color: #3B4455;\n",
              "      fill: #D2E3FC;\n",
              "    }\n",
              "\n",
              "    [theme=dark] .colab-df-convert:hover {\n",
              "      background-color: #434B5C;\n",
              "      box-shadow: 0px 1px 3px 1px rgba(0, 0, 0, 0.15);\n",
              "      filter: drop-shadow(0px 1px 2px rgba(0, 0, 0, 0.3));\n",
              "      fill: #FFFFFF;\n",
              "    }\n",
              "  </style>\n",
              "\n",
              "    <script>\n",
              "      const buttonEl =\n",
              "        document.querySelector('#df-db6b537a-10b1-4c0f-82f0-a5ab5c405e80 button.colab-df-convert');\n",
              "      buttonEl.style.display =\n",
              "        google.colab.kernel.accessAllowed ? 'block' : 'none';\n",
              "\n",
              "      async function convertToInteractive(key) {\n",
              "        const element = document.querySelector('#df-db6b537a-10b1-4c0f-82f0-a5ab5c405e80');\n",
              "        const dataTable =\n",
              "          await google.colab.kernel.invokeFunction('convertToInteractive',\n",
              "                                                    [key], {});\n",
              "        if (!dataTable) return;\n",
              "\n",
              "        const docLinkHtml = 'Like what you see? Visit the ' +\n",
              "          '<a target=\"_blank\" href=https://colab.research.google.com/notebooks/data_table.ipynb>data table notebook</a>'\n",
              "          + ' to learn more about interactive tables.';\n",
              "        element.innerHTML = '';\n",
              "        dataTable['output_type'] = 'display_data';\n",
              "        await google.colab.output.renderOutput(dataTable, element);\n",
              "        const docLink = document.createElement('div');\n",
              "        docLink.innerHTML = docLinkHtml;\n",
              "        element.appendChild(docLink);\n",
              "      }\n",
              "    </script>\n",
              "  </div>\n",
              "\n",
              "\n",
              "    <div id=\"df-b77c4dca-b569-4584-996b-a391ff41bde3\">\n",
              "      <button class=\"colab-df-quickchart\" onclick=\"quickchart('df-b77c4dca-b569-4584-996b-a391ff41bde3')\"\n",
              "                title=\"Suggest charts\"\n",
              "                style=\"display:none;\">\n",
              "\n",
              "<svg xmlns=\"http://www.w3.org/2000/svg\" height=\"24px\"viewBox=\"0 0 24 24\"\n",
              "     width=\"24px\">\n",
              "    <g>\n",
              "        <path d=\"M19 3H5c-1.1 0-2 .9-2 2v14c0 1.1.9 2 2 2h14c1.1 0 2-.9 2-2V5c0-1.1-.9-2-2-2zM9 17H7v-7h2v7zm4 0h-2V7h2v10zm4 0h-2v-4h2v4z\"/>\n",
              "    </g>\n",
              "</svg>\n",
              "      </button>\n",
              "\n",
              "<style>\n",
              "  .colab-df-quickchart {\n",
              "      --bg-color: #E8F0FE;\n",
              "      --fill-color: #1967D2;\n",
              "      --hover-bg-color: #E2EBFA;\n",
              "      --hover-fill-color: #174EA6;\n",
              "      --disabled-fill-color: #AAA;\n",
              "      --disabled-bg-color: #DDD;\n",
              "  }\n",
              "\n",
              "  [theme=dark] .colab-df-quickchart {\n",
              "      --bg-color: #3B4455;\n",
              "      --fill-color: #D2E3FC;\n",
              "      --hover-bg-color: #434B5C;\n",
              "      --hover-fill-color: #FFFFFF;\n",
              "      --disabled-bg-color: #3B4455;\n",
              "      --disabled-fill-color: #666;\n",
              "  }\n",
              "\n",
              "  .colab-df-quickchart {\n",
              "    background-color: var(--bg-color);\n",
              "    border: none;\n",
              "    border-radius: 50%;\n",
              "    cursor: pointer;\n",
              "    display: none;\n",
              "    fill: var(--fill-color);\n",
              "    height: 32px;\n",
              "    padding: 0;\n",
              "    width: 32px;\n",
              "  }\n",
              "\n",
              "  .colab-df-quickchart:hover {\n",
              "    background-color: var(--hover-bg-color);\n",
              "    box-shadow: 0 1px 2px rgba(60, 64, 67, 0.3), 0 1px 3px 1px rgba(60, 64, 67, 0.15);\n",
              "    fill: var(--button-hover-fill-color);\n",
              "  }\n",
              "\n",
              "  .colab-df-quickchart-complete:disabled,\n",
              "  .colab-df-quickchart-complete:disabled:hover {\n",
              "    background-color: var(--disabled-bg-color);\n",
              "    fill: var(--disabled-fill-color);\n",
              "    box-shadow: none;\n",
              "  }\n",
              "\n",
              "  .colab-df-spinner {\n",
              "    border: 2px solid var(--fill-color);\n",
              "    border-color: transparent;\n",
              "    border-bottom-color: var(--fill-color);\n",
              "    animation:\n",
              "      spin 1s steps(1) infinite;\n",
              "  }\n",
              "\n",
              "  @keyframes spin {\n",
              "    0% {\n",
              "      border-color: transparent;\n",
              "      border-bottom-color: var(--fill-color);\n",
              "      border-left-color: var(--fill-color);\n",
              "    }\n",
              "    20% {\n",
              "      border-color: transparent;\n",
              "      border-left-color: var(--fill-color);\n",
              "      border-top-color: var(--fill-color);\n",
              "    }\n",
              "    30% {\n",
              "      border-color: transparent;\n",
              "      border-left-color: var(--fill-color);\n",
              "      border-top-color: var(--fill-color);\n",
              "      border-right-color: var(--fill-color);\n",
              "    }\n",
              "    40% {\n",
              "      border-color: transparent;\n",
              "      border-right-color: var(--fill-color);\n",
              "      border-top-color: var(--fill-color);\n",
              "    }\n",
              "    60% {\n",
              "      border-color: transparent;\n",
              "      border-right-color: var(--fill-color);\n",
              "    }\n",
              "    80% {\n",
              "      border-color: transparent;\n",
              "      border-right-color: var(--fill-color);\n",
              "      border-bottom-color: var(--fill-color);\n",
              "    }\n",
              "    90% {\n",
              "      border-color: transparent;\n",
              "      border-bottom-color: var(--fill-color);\n",
              "    }\n",
              "  }\n",
              "</style>\n",
              "\n",
              "      <script>\n",
              "        async function quickchart(key) {\n",
              "          const quickchartButtonEl =\n",
              "            document.querySelector('#' + key + ' button');\n",
              "          quickchartButtonEl.disabled = true;  // To prevent multiple clicks.\n",
              "          quickchartButtonEl.classList.add('colab-df-spinner');\n",
              "          try {\n",
              "            const charts = await google.colab.kernel.invokeFunction(\n",
              "                'suggestCharts', [key], {});\n",
              "          } catch (error) {\n",
              "            console.error('Error during call to suggestCharts:', error);\n",
              "          }\n",
              "          quickchartButtonEl.classList.remove('colab-df-spinner');\n",
              "          quickchartButtonEl.classList.add('colab-df-quickchart-complete');\n",
              "        }\n",
              "        (() => {\n",
              "          let quickchartButtonEl =\n",
              "            document.querySelector('#df-b77c4dca-b569-4584-996b-a391ff41bde3 button');\n",
              "          quickchartButtonEl.style.display =\n",
              "            google.colab.kernel.accessAllowed ? 'block' : 'none';\n",
              "        })();\n",
              "      </script>\n",
              "    </div>\n",
              "\n",
              "    </div>\n",
              "  </div>\n"
            ],
            "application/vnd.google.colaboratory.intrinsic+json": {
              "type": "dataframe",
              "variable_name": "meta_df"
            }
          },
          "metadata": {},
          "execution_count": 31
        }
      ]
    },
    {
      "cell_type": "code",
      "source": [
        "# list out all the columns of metadata and show the set of values for each\n",
        "# NOTE: you can use this output to help determine other non-spaceflight factors\n",
        "# you may wish to include in your experiment\n",
        "\n",
        "metadata_cols = list(meta_df.columns)\n",
        "for col in metadata_cols:\n",
        "  print('column name: ', col)\n",
        "  print('set of possible values: ', set(meta_df[col]))\n",
        "  print('_______________')"
      ],
      "metadata": {
        "colab": {
          "base_uri": "https://localhost:8080/"
        },
        "id": "xlDCnt5fR-Q0",
        "outputId": "2db020c8-2af1-4b88-fa46-0c844018ecc5"
      },
      "execution_count": null,
      "outputs": [
        {
          "output_type": "stream",
          "name": "stdout",
          "text": [
            "column name:  Source Name\n",
            "set of possible values:  {'RR-23_V3', 'RR-23_V2', 'RR-23_GC6', 'RR-23_GC8', 'RR-23_V8', 'RR-23_F3', 'RR-23_F5', 'RR-23_F4', 'RR-23_GC3', 'RR-23_V5', 'RR-23_F9', 'RR-23_F1', 'RR-23_V6', 'RR-23_F6', 'RR-23_V7', 'RR-23_GC9', 'RR-23_V4', 'RR-23_F7', 'RR-23_GC1', 'RR-23_V1', 'RR-23_GC4', 'RR-23_F8', 'RR-23_GC7', 'RR-23_F2', 'RR-23_V9', 'RR-23_GC2', 'RR-23_GC5'}\n",
            "_______________\n",
            "column name:  Sample Name\n",
            "set of possible values:  {'RR23_KDN_VIV_V3', 'RR23_KDN_GC_G1_techrep2', 'RR23_KDN_VIV_V1_techrep1', 'RR23_KDN_GC_G6', 'RR23_KDN_FLT_F4', 'RR23_KDN_GC_G8', 'RR23_KDN_FLT_F6', 'RR23_KDN_FLT_F5', 'RR23_KDN_VIV_V7', 'RR23_KDN_GC_G7', 'RR23_KDN_FLT_F3', 'RR23_KDN_VIV_V2', 'RR23_KDN_GC_G9', 'RR23_KDN_VIV_V5', 'RR23_KDN_FLT_F7', 'RR23_KDN_GC_G3', 'RR23_KDN_VIV_V1_techrep2', 'RR23_KDN_VIV_V8', 'RR23_KDN_VIV_V4', 'RR23_KDN_VIV_V9', 'RR23_KDN_FLT_F1_techrep1', 'RR23_KDN_GC_G1_techrep1', 'RR23_KDN_GC_G5', 'RR23_KDN_GC_G4', 'RR23_KDN_FLT_F1_techrep2', 'RR23_KDN_VIV_V6', 'RR23_KDN_FLT_F8', 'RR23_KDN_FLT_F9', 'RR23_KDN_FLT_F2', 'RR23_KDN_GC_G2'}\n",
            "_______________\n",
            "column name:  Characteristics[Organism]\n",
            "set of possible values:  {'Mus musculus'}\n",
            "_______________\n",
            "column name:  Term Source REF\n",
            "set of possible values:  {'NCBITAXON'}\n",
            "_______________\n",
            "column name:  Term Accession Number\n",
            "set of possible values:  {'http://purl.bioontology.org/ontology/NCBITAXON/10090'}\n",
            "_______________\n",
            "column name:  Characteristics[Strain]\n",
            "set of possible values:  {'C57BL/6J'}\n",
            "_______________\n",
            "column name:  Term Source REF.1\n",
            "set of possible values:  {'EFO'}\n",
            "_______________\n",
            "column name:  Term Accession Number.1\n",
            "set of possible values:  {'http://www.ebi.ac.uk/efo/EFO_0000606'}\n",
            "_______________\n",
            "column name:  Characteristics[Animal Source]\n",
            "set of possible values:  {'Jackson Laboratory'}\n",
            "_______________\n",
            "column name:  Characteristics[Genotype]\n",
            "set of possible values:  {'Wild Type'}\n",
            "_______________\n",
            "column name:  Term Source REF.2\n",
            "set of possible values:  {'NCIT'}\n",
            "_______________\n",
            "column name:  Term Accession Number.2\n",
            "set of possible values:  {'http://purl.obolibrary.org/obo/NCIT_C62195'}\n",
            "_______________\n",
            "column name:  Characteristics[Age at Launch]\n",
            "set of possible values:  {'16-17'}\n",
            "_______________\n",
            "column name:  Unit\n",
            "set of possible values:  {'week'}\n",
            "_______________\n",
            "column name:  Term Source REF.3\n",
            "set of possible values:  {'UO'}\n",
            "_______________\n",
            "column name:  Term Accession Number.3\n",
            "set of possible values:  {'http://purl.obolibrary.org/obo/UO_0000034'}\n",
            "_______________\n",
            "column name:  Characteristics[Sex]\n",
            "set of possible values:  {'Male'}\n",
            "_______________\n",
            "column name:  Term Source REF.4\n",
            "set of possible values:  {'MESH'}\n",
            "_______________\n",
            "column name:  Term Accession Number.4\n",
            "set of possible values:  {'http://purl.bioontology.org/ontology/MESH/D008297'}\n",
            "_______________\n",
            "column name:  Characteristics[Material Type]\n",
            "set of possible values:  {'Left kidney'}\n",
            "_______________\n",
            "column name:  Term Source REF.5\n",
            "set of possible values:  {'FMA'}\n",
            "_______________\n",
            "column name:  Term Accession Number.5\n",
            "set of possible values:  {'http://purl.org/sig/ont/fma/fma7205'}\n",
            "_______________\n",
            "column name:  Factor Value[Spaceflight]\n",
            "set of possible values:  {'Space Flight', 'Ground Control', 'Vivarium Control'}\n",
            "_______________\n",
            "column name:  Term Source REF.6\n",
            "set of possible values:  {'GLDS', 'MESH'}\n",
            "_______________\n",
            "column name:  Term Accession Number.6\n",
            "set of possible values:  {'https://genelab-data.ndc.nasa.gov/', 'http://purl.bioontology.org/ontology/MESH/D013026'}\n",
            "_______________\n",
            "column name:  Protocol REF\n",
            "set of possible values:  {'Animal Husbandry'}\n",
            "_______________\n",
            "column name:  Parameter Value[habitat]\n",
            "set of possible values:  {'Standard vivarium cage', 'Rodent Flight Hardware (Transporter and Habitat)'}\n",
            "_______________\n",
            "column name:  Parameter Value[duration]\n",
            "set of possible values:  {38}\n",
            "_______________\n",
            "column name:  Unit.1\n",
            "set of possible values:  {'day'}\n",
            "_______________\n",
            "column name:  Term Source REF.7\n",
            "set of possible values:  {'UO'}\n",
            "_______________\n",
            "column name:  Term Accession Number.7\n",
            "set of possible values:  {'http://purl.obolibrary.org/obo/UO_0000033'}\n",
            "_______________\n",
            "column name:  Parameter Value[light cycle]\n",
            "set of possible values:  {'12 h light: 12 h dark. Lights on at 7:00 GMT'}\n",
            "_______________\n",
            "column name:  Parameter Value[Enrichment material]\n",
            "set of possible values:  {'Hut', 'Igloo'}\n",
            "_______________\n",
            "column name:  Term Source REF.8\n",
            "set of possible values:  {'GLDS', 'DCM'}\n",
            "_______________\n",
            "column name:  Term Accession Number.8\n",
            "set of possible values:  {'https://genelab-data.ndc.nasa.gov/', 'http://dicom.nema.org/resources/ontology/DCM/127220'}\n",
            "_______________\n",
            "column name:  Parameter Value[Diet]\n",
            "set of possible values:  {'Nutrient Upgraded Rodent Food Bar (NuRFB)'}\n",
            "_______________\n",
            "column name:  Parameter Value[Feeding Schedule]\n",
            "set of possible values:  {'Ad libitum'}\n",
            "_______________\n",
            "column name:  Protocol REF.1\n",
            "set of possible values:  {'sample collection'}\n",
            "_______________\n",
            "column name:  Parameter Value[Body Weight upon Euthanasia]\n",
            "set of possible values:  {29.9, 30.4, 27.3, 29.1, 30.0, 30.9, 32.3, 33.5, 33.9, 35.9, 32.9, 32.7, 34.1, 33.7, 35.2, 37.9, 32.5, 33.4, 37.1, 41.8, 41.6, 39.2, 34.8, 35.7, 43.0, 33.8}\n",
            "_______________\n",
            "column name:  Unit.2\n",
            "set of possible values:  {'gram'}\n",
            "_______________\n",
            "column name:  Term Source REF.9\n",
            "set of possible values:  {'UO'}\n",
            "_______________\n",
            "column name:  Term Accession Number.9\n",
            "set of possible values:  {'http://purl.obolibrary.org/obo/UO_0000021'}\n",
            "_______________\n",
            "column name:  Parameter Value[Euthanasia Method]\n",
            "set of possible values:  {'Bilateral thoracotomy with sedation, Cardiac puncture, Inhalation of Isoflurane'}\n",
            "_______________\n",
            "column name:  Parameter Value[Sample Preservation Method]\n",
            "set of possible values:  {'RNAlater for 24 hours at 4C'}\n",
            "_______________\n",
            "column name:  Term Source REF.10\n",
            "set of possible values:  {'GLDS'}\n",
            "_______________\n",
            "column name:  Term Accession Number.10\n",
            "set of possible values:  {'https://genelab-data.ndc.nasa.gov/'}\n",
            "_______________\n",
            "column name:  Parameter Value[Sample Storage Temperature]\n",
            "set of possible values:  {-80}\n",
            "_______________\n",
            "column name:  Unit.3\n",
            "set of possible values:  {'degree Celsius'}\n",
            "_______________\n",
            "column name:  Term Source REF.11\n",
            "set of possible values:  {'UO'}\n",
            "_______________\n",
            "column name:  Term Accession Number.11\n",
            "set of possible values:  {'http://purl.obolibrary.org/obo/UO_0000027'}\n",
            "_______________\n",
            "column name:  Protocol REF.2\n",
            "set of possible values:  {'radiation dosimetry'}\n",
            "_______________\n",
            "column name:  Parameter Value[ionizing radiation]\n",
            "set of possible values:  {'non-irradiated', 'space radiation'}\n",
            "_______________\n",
            "column name:  Term Source REF.12\n",
            "set of possible values:  {'RBO'}\n",
            "_______________\n",
            "column name:  Term Accession Number.12\n",
            "set of possible values:  {'http://purl.obolibrary.org/obo/RBO_00000002', 'http://purl.obolibrary.org/obo/RBO_00005025'}\n",
            "_______________\n",
            "column name:  Parameter Value[absorbed radiation dose]\n",
            "set of possible values:  {nan, nan, nan, 13.135, nan, nan, nan, nan, nan, nan, nan, nan, nan, nan, nan, nan, nan, nan, nan, nan, nan}\n",
            "_______________\n",
            "column name:  Unit.4\n",
            "set of possible values:  {'Not Applicable', 'milligray'}\n",
            "_______________\n",
            "column name:  Term Source REF.13\n",
            "set of possible values:  {'GLDS', 'UO'}\n",
            "_______________\n",
            "column name:  Term Accession Number.13\n",
            "set of possible values:  {'https://genelab-data.ndc.nasa.gov/', 'http://purl.obolibrary.org/obo/UO_0000142'}\n",
            "_______________\n",
            "column name:  Parameter Value[absorbed radiation dose rate]\n",
            "set of possible values:  {0.355, nan, nan, nan, nan, nan, nan, nan, nan, nan, nan, nan, nan, nan, nan, nan, nan, nan, nan, nan, nan}\n",
            "_______________\n",
            "column name:  Unit.5\n",
            "set of possible values:  {'milligray per day', 'Not Applicable'}\n",
            "_______________\n",
            "column name:  Term Source REF.14\n",
            "set of possible values:  {'GLDS', 'UO'}\n",
            "_______________\n",
            "column name:  Term Accession Number.14\n",
            "set of possible values:  {'https://genelab-data.ndc.nasa.gov/', 'http://purl.obolibrary.org/obo/UO_0010063'}\n",
            "_______________\n",
            "column name:  Parameter Value[exposure duration]\n",
            "set of possible values:  {nan, nan, nan, nan, nan, nan, nan, 37.0, nan, nan, nan, nan, nan, nan, nan, nan, nan, nan, nan, nan, nan}\n",
            "_______________\n",
            "column name:  Unit.6\n",
            "set of possible values:  {'day', 'Not Applicable'}\n",
            "_______________\n",
            "column name:  Term Source REF.15\n",
            "set of possible values:  {'GLDS', 'UO'}\n",
            "_______________\n",
            "column name:  Term Accession Number.15\n",
            "set of possible values:  {'http://purl.obolibrary.org/obo/UO_0000033', 'https://genelab-data.ndc.nasa.gov/'}\n",
            "_______________\n",
            "column name:  Parameter Value[ionizing radiation categorized by source]\n",
            "set of possible values:  {'outer space', 'Not Applicable'}\n",
            "_______________\n",
            "column name:  Term Source REF.16\n",
            "set of possible values:  {'NCIT', 'RBO'}\n",
            "_______________\n",
            "column name:  Term Accession Number.16\n",
            "set of possible values:  {'http://purl.obolibrary.org/obo/ENVO_01000637', 'http://purl.obolibrary.org/obo/NCIT_C48660'}\n",
            "_______________\n",
            "column name:  Parameter Value[vehicle]\n",
            "set of possible values:  {'ISS-US Laboratory', 'Not Applicable'}\n",
            "_______________\n",
            "column name:  Term Source REF.17\n",
            "set of possible values:  {'NCIT', 'RBO'}\n",
            "_______________\n",
            "column name:  Term Accession Number.17\n",
            "set of possible values:  {'http://purl.obolibrary.org/obo/RBO_00000040', 'http://purl.obolibrary.org/obo/NCIT_C48660'}\n",
            "_______________\n",
            "column name:  Comment[RFID]\n",
            "set of possible values:  {'5F76', '554D', '162', '055E', '566F', '487E', '7512', '5F3A', '4C29', '4A2E', '5F2B', '2741', '2D69', '7F5B', '4534', '777', '0C08', '2F72', '274D', '4024', '3205', '210E', '542A', '2077', '4664', '6438', '635B'}\n",
            "_______________\n",
            "column name:  Comment[ALSDA Subject ID]\n",
            "set of possible values:  {741, 766, 767}\n",
            "_______________\n",
            "column name:  Comment[Euthanasia Date]\n",
            "set of possible values:  {'17-Jan-2021', '20-Jan-2021', '14-Jan-2021'}\n",
            "_______________\n",
            "column name:  Comment[BSP Dissection Date]\n",
            "set of possible values:  {'17-Jan-2021', '20-Jan-2021', '14-Jan-2021'}\n",
            "_______________\n",
            "column name:  Comment[Source Description]\n",
            "set of possible values:  {'Live animal return'}\n",
            "_______________\n"
          ]
        }
      ]
    },
    {
      "cell_type": "code",
      "source": [
        "# see how many samples are in each group\n",
        "group_A = config['group_A']\n",
        "group_B = config['group_B']\n",
        "group_list = [group_A, group_B]\n",
        "for group in group_list:\n",
        "  print('number of samples per factor in group: ', group)\n",
        "  for factor in group:\n",
        "    print(meta_df[factor].value_counts())\n",
        "  print()"
      ],
      "metadata": {
        "id": "Gc13wn26P3WC",
        "colab": {
          "base_uri": "https://localhost:8080/"
        },
        "outputId": "713661c7-2dc6-4c5f-95c1-81993e62d9bd"
      },
      "execution_count": null,
      "outputs": [
        {
          "output_type": "stream",
          "name": "stdout",
          "text": [
            "number of samples per factor in group:  {'Factor Value[Spaceflight]': 'Space Flight'}\n",
            "Factor Value[Spaceflight]\n",
            "Space Flight        10\n",
            "Ground Control      10\n",
            "Vivarium Control    10\n",
            "Name: count, dtype: int64\n",
            "\n",
            "number of samples per factor in group:  {'Factor Value[Spaceflight]': 'Ground Control'}\n",
            "Factor Value[Spaceflight]\n",
            "Space Flight        10\n",
            "Ground Control      10\n",
            "Vivarium Control    10\n",
            "Name: count, dtype: int64\n",
            "\n"
          ]
        }
      ]
    },
    {
      "cell_type": "code",
      "source": [
        "# check shape of  dataframes prior to analysis\n",
        "print('expr shape: ', expr_df.shape)\n",
        "print('meta shape: ', meta_df.shape)"
      ],
      "metadata": {
        "id": "14_wqaAV8N0j",
        "colab": {
          "base_uri": "https://localhost:8080/"
        },
        "outputId": "cec404de-405a-488d-c993-90ce01e762c2"
      },
      "execution_count": null,
      "outputs": [
        {
          "output_type": "stream",
          "name": "stdout",
          "text": [
            "expr shape:  (30, 6892)\n",
            "meta shape:  (30, 77)\n"
          ]
        }
      ]
    },
    {
      "cell_type": "code",
      "source": [
        "# compare expr_df sample naming with meta_df sample naming\n",
        "# note there could be a conflict here that breaks the rest of the analysis\n",
        "expr_sample_set = set(expr_df['sample'])\n",
        "meta_sample_set = set(meta_df['Sample Name'])\n",
        "meta_source_set = set(meta_df['Source Name'])\n",
        "print('expr samples: ', expr_sample_set)\n",
        "print('meta samples: ', meta_sample_set)\n",
        "print('meta sources: ', meta_source_set)"
      ],
      "metadata": {
        "colab": {
          "base_uri": "https://localhost:8080/"
        },
        "id": "_jttffhynaI9",
        "outputId": "c9cf1a0c-d36b-410b-8be8-f2dfd0186243"
      },
      "execution_count": null,
      "outputs": [
        {
          "output_type": "stream",
          "name": "stdout",
          "text": [
            "expr samples:  {'RR23_KDN_VIV_V3', 'RR23_KDN_GC_G1_techrep2', 'RR23_KDN_VIV_V1_techrep1', 'RR23_KDN_GC_G6', 'RR23_KDN_FLT_F4', 'RR23_KDN_GC_G8', 'RR23_KDN_FLT_F6', 'RR23_KDN_FLT_F5', 'RR23_KDN_VIV_V7', 'RR23_KDN_GC_G7', 'RR23_KDN_FLT_F3', 'RR23_KDN_VIV_V2', 'RR23_KDN_GC_G9', 'RR23_KDN_VIV_V5', 'RR23_KDN_FLT_F7', 'RR23_KDN_GC_G3', 'RR23_KDN_VIV_V1_techrep2', 'RR23_KDN_VIV_V8', 'RR23_KDN_VIV_V4', 'RR23_KDN_VIV_V9', 'RR23_KDN_FLT_F1_techrep1', 'RR23_KDN_GC_G1_techrep1', 'RR23_KDN_GC_G5', 'RR23_KDN_GC_G4', 'RR23_KDN_FLT_F1_techrep2', 'RR23_KDN_VIV_V6', 'RR23_KDN_FLT_F8', 'RR23_KDN_FLT_F9', 'RR23_KDN_FLT_F2', 'RR23_KDN_GC_G2'}\n",
            "meta samples:  {'RR23_KDN_VIV_V3', 'RR23_KDN_GC_G1_techrep2', 'RR23_KDN_VIV_V1_techrep1', 'RR23_KDN_GC_G6', 'RR23_KDN_FLT_F4', 'RR23_KDN_GC_G8', 'RR23_KDN_FLT_F6', 'RR23_KDN_FLT_F5', 'RR23_KDN_VIV_V7', 'RR23_KDN_GC_G7', 'RR23_KDN_FLT_F3', 'RR23_KDN_VIV_V2', 'RR23_KDN_GC_G9', 'RR23_KDN_VIV_V5', 'RR23_KDN_FLT_F7', 'RR23_KDN_GC_G3', 'RR23_KDN_VIV_V1_techrep2', 'RR23_KDN_VIV_V8', 'RR23_KDN_VIV_V4', 'RR23_KDN_VIV_V9', 'RR23_KDN_FLT_F1_techrep1', 'RR23_KDN_GC_G1_techrep1', 'RR23_KDN_GC_G5', 'RR23_KDN_GC_G4', 'RR23_KDN_FLT_F1_techrep2', 'RR23_KDN_VIV_V6', 'RR23_KDN_FLT_F8', 'RR23_KDN_FLT_F9', 'RR23_KDN_FLT_F2', 'RR23_KDN_GC_G2'}\n",
            "meta sources:  {'RR-23_V3', 'RR-23_V2', 'RR-23_GC6', 'RR-23_GC8', 'RR-23_V8', 'RR-23_F3', 'RR-23_F5', 'RR-23_F4', 'RR-23_GC3', 'RR-23_V5', 'RR-23_F9', 'RR-23_F1', 'RR-23_V6', 'RR-23_F6', 'RR-23_V7', 'RR-23_GC9', 'RR-23_V4', 'RR-23_F7', 'RR-23_GC1', 'RR-23_V1', 'RR-23_GC4', 'RR-23_F8', 'RR-23_GC7', 'RR-23_F2', 'RR-23_V9', 'RR-23_GC2', 'RR-23_GC5'}\n"
          ]
        }
      ]
    },
    {
      "cell_type": "code",
      "source": [
        "# intersect expr_df and meta_df samples\n",
        "expr_sample_set = set(expr_df['sample'])\n",
        "meta_sample_set = set(meta_df['Sample Name'])\n",
        "\n",
        "common_samples = expr_sample_set.intersection(meta_sample_set)\n",
        "print('number of common samples: ', len(common_samples))\n",
        "\n",
        "expr_df = expr_df[expr_df['sample'].isin(common_samples)]\n",
        "meta_df = meta_df[meta_df['Sample Name'].isin(common_samples)]\n",
        "\n",
        "assert len(expr_df) == len(meta_df)"
      ],
      "metadata": {
        "colab": {
          "base_uri": "https://localhost:8080/"
        },
        "id": "Y9asqT5HloVl",
        "outputId": "2ca58216-a0f0-4020-83d5-a8cb8e858799"
      },
      "execution_count": null,
      "outputs": [
        {
          "output_type": "stream",
          "name": "stdout",
          "text": [
            "number of common samples:  30\n"
          ]
        }
      ]
    },
    {
      "cell_type": "markdown",
      "source": [
        "# Prepare factors"
      ],
      "metadata": {
        "id": "Y9hHehciCflN"
      }
    },
    {
      "cell_type": "code",
      "source": [
        "# First let's create a factors table.\n",
        "# We'll assign 0 for one group and 1 for the other group\n",
        "factors = pd.DataFrame(columns=['factor'])\n",
        "\n",
        "group_A = config['group_A']\n",
        "group_B = config['group_B']\n",
        "group_list = [group_A, group_B]\n",
        "factor_list = config['factor_list']\n",
        "\n",
        "group_A_samples = set()\n",
        "counter = 0\n",
        "for factor in factor_list:\n",
        "  if counter == 0:\n",
        "    group_A_samples = set(meta_df[meta_df[factor] == group_A[factor]]['Sample Name'])\n",
        "  else:\n",
        "    group_A_samples = group_A_samples.intersection(set(meta_df[meta_df[factor] == group_A[factor]]['Sample Name']))\n",
        "  counter += 1\n",
        "print('group A samples: ', group_A_samples)\n",
        "\n",
        "group_A_dict = dict()\n",
        "for sample in group_A_samples:\n",
        "  group_A_dict[sample] = '0'\n",
        "\n",
        "group_B_samples = set()\n",
        "counter = 0\n",
        "for factor in factor_list:\n",
        "  if counter == 0:\n",
        "    group_B_samples = set(meta_df[meta_df[factor] == group_B[factor]]['Sample Name'])\n",
        "  else:\n",
        "    group_B_samples = group_B_samples.intersection(set(meta_df[meta_df[factor] == group_B[factor]]['Sample Name']))\n",
        "  counter += 1\n",
        "print('group B samples: ', group_B_samples)\n",
        "\n",
        "\n",
        "group_B_dict = dict()\n",
        "for sample in group_B_samples:\n",
        "  group_B_dict[sample] = '1'\n",
        "\n",
        "factors_A = pd.DataFrame.from_dict(group_A_dict, columns = ['factor'], orient='index')\n",
        "factors_B = pd.DataFrame.from_dict(group_B_dict, columns = ['factor'], orient='index')\n",
        "factors = pd.concat([factors_A, factors_B])\n",
        "print('factors: ', factors)\n",
        "factors.to_csv(DGEA_DIR + '/factors.csv')\n",
        "\n"
      ],
      "metadata": {
        "id": "0TYCw7RqP1Q0",
        "colab": {
          "base_uri": "https://localhost:8080/"
        },
        "outputId": "7641f4bf-57fb-4eb1-a4ae-1deaf9af33e9"
      },
      "execution_count": null,
      "outputs": [
        {
          "output_type": "stream",
          "name": "stdout",
          "text": [
            "group A samples:  {'RR23_KDN_FLT_F7', 'RR23_KDN_FLT_F1_techrep2', 'RR23_KDN_FLT_F8', 'RR23_KDN_FLT_F9', 'RR23_KDN_FLT_F2', 'RR23_KDN_FLT_F1_techrep1', 'RR23_KDN_FLT_F4', 'RR23_KDN_FLT_F3', 'RR23_KDN_FLT_F6', 'RR23_KDN_FLT_F5'}\n",
            "group B samples:  {'RR23_KDN_GC_G9', 'RR23_KDN_GC_G1_techrep1', 'RR23_KDN_GC_G5', 'RR23_KDN_GC_G4', 'RR23_KDN_GC_G3', 'RR23_KDN_GC_G7', 'RR23_KDN_GC_G1_techrep2', 'RR23_KDN_GC_G6', 'RR23_KDN_GC_G8', 'RR23_KDN_GC_G2'}\n",
            "factors:                           factor\n",
            "RR23_KDN_FLT_F7               0\n",
            "RR23_KDN_FLT_F1_techrep2      0\n",
            "RR23_KDN_FLT_F8               0\n",
            "RR23_KDN_FLT_F9               0\n",
            "RR23_KDN_FLT_F2               0\n",
            "RR23_KDN_FLT_F1_techrep1      0\n",
            "RR23_KDN_FLT_F4               0\n",
            "RR23_KDN_FLT_F3               0\n",
            "RR23_KDN_FLT_F6               0\n",
            "RR23_KDN_FLT_F5               0\n",
            "RR23_KDN_GC_G9                1\n",
            "RR23_KDN_GC_G1_techrep1       1\n",
            "RR23_KDN_GC_G5                1\n",
            "RR23_KDN_GC_G4                1\n",
            "RR23_KDN_GC_G3                1\n",
            "RR23_KDN_GC_G7                1\n",
            "RR23_KDN_GC_G1_techrep2       1\n",
            "RR23_KDN_GC_G6                1\n",
            "RR23_KDN_GC_G8                1\n",
            "RR23_KDN_GC_G2                1\n"
          ]
        }
      ]
    },
    {
      "cell_type": "code",
      "source": [
        "# assert that there are at least 3 samples per group\n",
        "# STOP here either of these assertions fail\n",
        "# DGEA needs at least 3 biological replicates per group for the results to be meaningful\n",
        "assert len(group_A_samples) >= 3\n",
        "assert len(group_B_samples) >= 3"
      ],
      "metadata": {
        "id": "E3nWqzMBSQit"
      },
      "execution_count": null,
      "outputs": []
    },
    {
      "cell_type": "code",
      "source": [
        "# drop all values from expr_df and meta_df that are not in factors\n",
        "_0 = list(factors[factors['factor'] == '0'].index)\n",
        "_1 = list(factors[factors['factor'] == '1'].index)\n",
        "samples = set(_0 + _1)\n",
        "expr_df_samples = set(expr_df['sample'])\n",
        "meta_df_samples = set(meta_df['Sample Name'])\n",
        "final_samples = expr_df_samples.intersection(meta_df_samples).intersection(samples)\n",
        "\n",
        "samples_0 = list(set(_0).intersection(final_samples))\n",
        "samples_1 = list(set(_1).intersection(final_samples))\n",
        "\n",
        "# create new df's expr_df_factors and meta_df_factors for use in the rest of this notebook\n",
        "expr_df_factors = expr_df[expr_df['sample'].isin(final_samples)]\n",
        "meta_df_factors = meta_df[meta_df['Sample Name'].isin(final_samples)]\n",
        "\n",
        "# save dataframes to google drive\n",
        "expr_df_factors.to_csv(DGEA_DIR + '/expr_df_factors.csv', sep=',', index=None)\n",
        "meta_df_factors.to_csv(DGEA_DIR + '/meta_df_factors.csv', sep=',', index=None)"
      ],
      "metadata": {
        "id": "9AP3RevTmzzB"
      },
      "execution_count": null,
      "outputs": []
    },
    {
      "cell_type": "code",
      "source": [
        "# show the shape of the meta_df_factors\n",
        "meta_df_factors.shape"
      ],
      "metadata": {
        "id": "8jVz5OZsDRX1",
        "colab": {
          "base_uri": "https://localhost:8080/"
        },
        "outputId": "6f819b7f-59e1-4f41-fade-6bb6c954e245"
      },
      "execution_count": null,
      "outputs": [
        {
          "output_type": "execute_result",
          "data": {
            "text/plain": [
              "(20, 77)"
            ]
          },
          "metadata": {},
          "execution_count": 40
        }
      ]
    },
    {
      "cell_type": "code",
      "source": [
        "# show the shape of the expr_df_factors\n",
        "expr_df_factors.shape"
      ],
      "metadata": {
        "id": "efbyl9n0Di7r",
        "colab": {
          "base_uri": "https://localhost:8080/"
        },
        "outputId": "706099a2-518d-4ff2-d7de-05a7117020c0"
      },
      "execution_count": null,
      "outputs": [
        {
          "output_type": "execute_result",
          "data": {
            "text/plain": [
              "(20, 6892)"
            ]
          },
          "metadata": {},
          "execution_count": 41
        }
      ]
    },
    {
      "cell_type": "code",
      "source": [
        "# assert that the number of samples is the same in meta_df_factors and expr_df_factors\n",
        "# STOP here if they are not and figure out what the problem may be\n",
        "assert meta_df_factors.shape[0] == expr_df_factors.shape[0]"
      ],
      "metadata": {
        "id": "ifgJcfgWZK7N"
      },
      "execution_count": null,
      "outputs": []
    },
    {
      "cell_type": "markdown",
      "source": [
        "# Run PCA\n",
        "\n",
        "Here we run principal components analysis (PCA) to determine if the samples separate in the plane."
      ],
      "metadata": {
        "id": "ojIgh_NfTIgu"
      }
    },
    {
      "cell_type": "code",
      "source": [
        "# call run_pca on expr_df_factors\n",
        "plt = run_pca(expr_df_factors, meta_df_factors, samples_0, samples_1, list(factors['factor']))\n",
        "plt.savefig(DGEA_DIR + '/pca.png')\n",
        "plt.show()"
      ],
      "metadata": {
        "id": "WE3Qbe4lWNuk",
        "colab": {
          "base_uri": "https://localhost:8080/",
          "height": 489
        },
        "outputId": "bdb6fa75-eb62-4967-b8ab-55b65de9f894"
      },
      "execution_count": null,
      "outputs": [
        {
          "output_type": "stream",
          "name": "stdout",
          "text": [
            "explained variance ratio (first two components): [0.96411734 0.01505081]\n"
          ]
        },
        {
          "output_type": "display_data",
          "data": {
            "text/plain": [
              "<Figure size 640x480 with 1 Axes>"
            ],
            "image/png": "[encoded data removed]"
          },
          "metadata": {}
        }
      ]
    },
    {
      "cell_type": "markdown",
      "source": [
        "If you encounter any outliers,  you may wish to remove them from your expr_df_factors and meta_df_factors dataframes before running DGEA."
      ],
      "metadata": {
        "id": "YMKy4XU-iGQz"
      }
    },
    {
      "cell_type": "markdown",
      "source": [
        "# Perform differential gene expression analysis"
      ],
      "metadata": {
        "id": "QlJK1EflNZEd"
      }
    },
    {
      "cell_type": "code",
      "source": [
        "# create dataframe with 'sample' column removed for DESeq2\n",
        "import numpy as np\n",
        "counts = expr_df_factors.drop(columns=['sample']).reset_index(drop=True)\n",
        "# check for non-numeric\n",
        "counts.applymap(np.isreal)\n",
        "# convert all cells to integers\n",
        "counts = counts.astype(int)\n",
        "counts.shape"
      ],
      "metadata": {
        "id": "_hTAn-Re2Ynr",
        "colab": {
          "base_uri": "https://localhost:8080/"
        },
        "outputId": "7fb18094-1fba-48d5-a55c-64bb829d5210"
      },
      "execution_count": null,
      "outputs": [
        {
          "output_type": "execute_result",
          "data": {
            "text/plain": [
              "(20, 6891)"
            ]
          },
          "metadata": {},
          "execution_count": 44
        }
      ]
    },
    {
      "cell_type": "markdown",
      "source": [
        "You can read more about the pyDeseq2 package in [this document](https://pydeseq2.readthedocs.io/en/stable/api/index.html#)."
      ],
      "metadata": {
        "id": "Y-9Bua7QSTfB"
      }
    },
    {
      "cell_type": "code",
      "source": [
        "# run the DESEq2 experiment contrasting condition \"0\" (ground control) to condition \"1\" (space flight)\n",
        "# store the results in a dataframe called \"res\"\n",
        "dds = DeseqDataSet(counts=counts, metadata=factors, design_factors=\"factor\")\n",
        "dds.deseq2()\n",
        "stats_results = DeseqStats(dds, contrast = ('factor', '0', '1'))\n",
        "stats_results.summary()\n",
        "res = stats_results.results_df"
      ],
      "metadata": {
        "id": "Df_4q7H041KH",
        "colab": {
          "base_uri": "https://localhost:8080/"
        },
        "outputId": "7044a70e-987b-48c3-9069-0588616820f1"
      },
      "execution_count": null,
      "outputs": [
        {
          "output_type": "stream",
          "name": "stdout",
          "text": [
            "Using None as control genes, passed at DeseqDataSet initialization\n"
          ]
        },
        {
          "output_type": "stream",
          "name": "stderr",
          "text": [
            "/tmp/ipython-input-1809659324.py:3: DeprecationWarning: design_factors is deprecated and will soon be removed.Please consider providing a formulaic formula using the design argumentinstead.\n",
            "  dds = DeseqDataSet(counts=counts, metadata=factors, design_factors=\"factor\")\n",
            "Fitting size factors...\n",
            "... done in 0.01 seconds.\n",
            "\n",
            "Fitting dispersions...\n",
            "... done in 9.40 seconds.\n",
            "\n",
            "Fitting dispersion trend curve...\n",
            "... done in 0.35 seconds.\n",
            "\n",
            "Fitting MAP dispersions...\n",
            "... done in 11.25 seconds.\n",
            "\n",
            "Fitting LFCs...\n",
            "... done in 6.79 seconds.\n",
            "\n",
            "Calculating cook's distance...\n",
            "... done in 0.02 seconds.\n",
            "\n",
            "Replacing 33 outlier genes.\n",
            "\n",
            "Fitting dispersions...\n",
            "... done in 0.14 seconds.\n",
            "\n",
            "Fitting MAP dispersions...\n",
            "... done in 0.15 seconds.\n",
            "\n",
            "Fitting LFCs...\n",
            "... done in 0.12 seconds.\n",
            "\n",
            "Running Wald tests...\n"
          ]
        },
        {
          "output_type": "stream",
          "name": "stdout",
          "text": [
            "Log2 fold change & Wald test p-value: factor 0 vs 1\n",
            "                     baseMean  log2FoldChange     lfcSE      stat    pvalue  \\\n",
            "ENSMUSG00000000031   1.137881       -0.449745  0.723892 -0.621288  0.534410   \n",
            "ENSMUSG00000000037   5.831842       -0.062853  0.391665 -0.160475  0.872507   \n",
            "ENSMUSG00000000120  12.577331        0.257565  0.296213  0.869528  0.384558   \n",
            "ENSMUSG00000000142  41.385844        0.916447  0.274932  3.333362  0.000858   \n",
            "ENSMUSG00000000197  13.657887        0.979916  0.297872  3.289728  0.001003   \n",
            "...                       ...             ...       ...       ...       ...   \n",
            "ENSMUSG00002076860   2.610404       -0.539096  0.502520 -1.072785  0.283368   \n",
            "ENSMUSG00002076874   6.073786        0.283396  0.376716  0.752280  0.451883   \n",
            "ENSMUSG00002076902   4.608025       -0.314740  0.433271 -0.726426  0.467577   \n",
            "ENSMUSG00002076903   2.019218        0.297345  0.560285  0.530702  0.595625   \n",
            "ENSMUSG00002076983   6.461291        0.081474  0.385303  0.211453  0.832534   \n",
            "\n",
            "                        padj  \n",
            "ENSMUSG00000000031       NaN  \n",
            "ENSMUSG00000000037  0.946721  \n",
            "ENSMUSG00000000120  0.646988  \n",
            "ENSMUSG00000000142  0.009790  \n",
            "ENSMUSG00000000197  0.010969  \n",
            "...                      ...  \n",
            "ENSMUSG00002076860  0.546360  \n",
            "ENSMUSG00002076874  0.700302  \n",
            "ENSMUSG00002076902  0.712835  \n",
            "ENSMUSG00002076903  0.802459  \n",
            "ENSMUSG00002076983  0.929216  \n",
            "\n",
            "[6891 rows x 6 columns]\n"
          ]
        },
        {
          "output_type": "stream",
          "name": "stderr",
          "text": [
            "... done in 2.48 seconds.\n",
            "\n"
          ]
        }
      ]
    },
    {
      "cell_type": "code",
      "source": [
        "# extract results of the DESeq2 experiment where  padj < 0.05, and log2fc > LOG2FC_THRESH\n",
        "sigs = res[(res.padj < ALPHA_LEVEL) & (abs(res.log2FoldChange) > LOG2FC_THRESH)]\n",
        "print(sigs.shape)\n",
        "# convert gene id to gene symbol\n",
        "sigs['gene_symbol'] = get_symbol_from_id(list(sigs.index))\n",
        "print('first 5 sigs: ', sigs.head())\n",
        "sigs.to_csv(DGEA_DIR + '/sigs.csv', sep=',')"
      ],
      "metadata": {
        "id": "Uu5KVDFx8_8e",
        "colab": {
          "base_uri": "https://localhost:8080/"
        },
        "outputId": "e0cf2806-2672-4a19-ed67-51a0d0b841b9"
      },
      "execution_count": null,
      "outputs": [
        {
          "output_type": "stream",
          "name": "stderr",
          "text": [
            "WARNING:biothings.client:Input sequence provided is already in string format. No operation performed\n",
            "INFO:biothings.client:querying 1-288 ...\n"
          ]
        },
        {
          "output_type": "stream",
          "name": "stdout",
          "text": [
            "(288, 6)\n"
          ]
        },
        {
          "output_type": "stream",
          "name": "stderr",
          "text": [
            "INFO:biothings.client:Finished.\n",
            "WARNING:biothings.client:4 input query terms found no hit:\t['ENSMUSG00000097622', 'ENSMUSG00000108969', 'ENSMUSG00000110162', 'ENSMUSG00000116029']\n",
            "INFO:biothings.client:Pass \"returnall=True\" to return complete lists of duplicate or missing query terms.\n"
          ]
        },
        {
          "output_type": "stream",
          "name": "stdout",
          "text": [
            "first 5 sigs:                         baseMean  log2FoldChange     lfcSE       stat  \\\n",
            "ENSMUSG00000002265  2241.807081        2.061031  0.194348  10.604870   \n",
            "ENSMUSG00000002266   241.917054        2.425842  0.273635   8.865255   \n",
            "ENSMUSG00000005413  2472.018219       -1.706609  0.512361  -3.330870   \n",
            "ENSMUSG00000005800    10.020104       -3.251711  0.965904  -3.366496   \n",
            "ENSMUSG00000009092    27.368063       -2.534934  0.468635  -5.409184   \n",
            "\n",
            "                          pvalue          padj gene_symbol  \n",
            "ENSMUSG00000002265  2.828572e-26  8.987788e-23        Peg3  \n",
            "ENSMUSG00000002266  7.632913e-19  6.929594e-16        Zim1  \n",
            "ENSMUSG00000005413  8.657491e-04  9.842282e-03       Hmox1  \n",
            "ENSMUSG00000005800  7.612958e-04  8.893447e-03        Mmp8  \n",
            "ENSMUSG00000009092  6.331254e-08  4.470569e-06       Derl3  \n"
          ]
        },
        {
          "output_type": "stream",
          "name": "stderr",
          "text": [
            "/tmp/ipython-input-4204195135.py:5: SettingWithCopyWarning: \n",
            "A value is trying to be set on a copy of a slice from a DataFrame.\n",
            "Try using .loc[row_indexer,col_indexer] = value instead\n",
            "\n",
            "See the caveats in the documentation: https://pandas.pydata.org/pandas-docs/stable/user_guide/indexing.html#returning-a-view-versus-a-copy\n",
            "  sigs['gene_symbol'] = get_symbol_from_id(list(sigs.index))\n"
          ]
        }
      ]
    },
    {
      "cell_type": "code",
      "source": [
        "# write differentially expressed gene list to file\n",
        "deg_genes = list(sigs.index)\n",
        "deg_gene_symbols = get_symbol_from_id(deg_genes)\n",
        "with open(f\"{DGEA_DIR}/deg_genes.txt\", \"w\") as f:\n",
        "  for gene in deg_gene_symbols:\n",
        "    f.write(gene + \"\\n\")\n",
        "f.close()\n",
        "\n",
        "# check gene file\n",
        "!head {DGEA_DIR}/deg_genes.txt"
      ],
      "metadata": {
        "id": "iMLvVI83Dz-y",
        "colab": {
          "base_uri": "https://localhost:8080/"
        },
        "outputId": "88001a45-12e3-44cd-9c70-6ba406d8ac3a"
      },
      "execution_count": null,
      "outputs": [
        {
          "output_type": "stream",
          "name": "stderr",
          "text": [
            "WARNING:biothings.client:Input sequence provided is already in string format. No operation performed\n",
            "INFO:biothings.client:querying 1-288 ...\n",
            "INFO:biothings.client:Finished.\n",
            "WARNING:biothings.client:4 input query terms found no hit:\t['ENSMUSG00000097622', 'ENSMUSG00000108969', 'ENSMUSG00000110162', 'ENSMUSG00000116029']\n",
            "INFO:biothings.client:Pass \"returnall=True\" to return complete lists of duplicate or missing query terms.\n"
          ]
        },
        {
          "output_type": "stream",
          "name": "stdout",
          "text": [
            "Peg3\n",
            "Zim1\n",
            "Hmox1\n",
            "Mmp8\n",
            "Derl3\n",
            "4930579F01Rik\n",
            "Bcas1\n",
            "C4a\n",
            "Sec14l4\n",
            "Nav3\n"
          ]
        }
      ]
    },
    {
      "cell_type": "code",
      "source": [
        "# write list of background genes to file\n",
        "bg_genes = get_symbol_from_id(list(expr_df.drop(columns=['sample'])))\n",
        "\n",
        "with open(f\"{DGEA_DIR}/background_genes.txt\", \"w\") as f:\n",
        "  for gene in bg_genes:\n",
        "    f.write(gene + \"\\n\")\n",
        "f.close()\n",
        "\n",
        "# check gene file\n",
        "!head {DGEA_DIR}/background_genes.txt"
      ],
      "metadata": {
        "id": "bGbVDGmDlYgO",
        "colab": {
          "base_uri": "https://localhost:8080/"
        },
        "outputId": "6b36c6ae-452f-4ad8-9ecb-7cd7e9829413"
      },
      "execution_count": null,
      "outputs": [
        {
          "output_type": "stream",
          "name": "stderr",
          "text": [
            "WARNING:biothings.client:Input sequence provided is already in string format. No operation performed\n",
            "INFO:biothings.client:querying 1-1000 ...\n",
            "INFO:biothings.client:querying 1001-2000 ...\n",
            "INFO:biothings.client:querying 2001-3000 ...\n",
            "INFO:biothings.client:querying 3001-4000 ...\n",
            "INFO:biothings.client:querying 4001-5000 ...\n",
            "INFO:biothings.client:querying 5001-6000 ...\n",
            "INFO:biothings.client:querying 6001-6891 ...\n",
            "INFO:biothings.client:Finished.\n",
            "WARNING:biothings.client:103 input query terms found no hit:\t['ENSMUSG00000038917', 'ENSMUSG00000040838', 'ENSMUSG00000043623', 'ENSMUSG00000044387', 'ENSMUSG000\n",
            "INFO:biothings.client:Pass \"returnall=True\" to return complete lists of duplicate or missing query terms.\n"
          ]
        },
        {
          "output_type": "stream",
          "name": "stdout",
          "text": [
            "H19\n",
            "Scml2\n",
            "Ngfr\n",
            "Axin2\n",
            "Nalcn\n",
            "Slfn4\n",
            "Drp2\n",
            "Clec10a\n",
            "Rem1\n",
            "Rnf17\n"
          ]
        }
      ]
    },
    {
      "cell_type": "markdown",
      "source": [
        "# Create volcano plot\n",
        "\n",
        "You can learn more about how this volcano plot was generated reading [this article](https://bioinformatics.ccr.cancer.gov/docs/pies-2023/pies_lesson4/)."
      ],
      "metadata": {
        "id": "PUHaEOATD8xC"
      }
    },
    {
      "cell_type": "code",
      "source": [
        "# import Python modules for plotting volcano\n",
        "import pandas\n",
        "import numpy\n",
        "import matplotlib.pyplot as plt\n",
        "import seaborn\n",
        "\n",
        "# create column for -log10PAdj from existing padj\n",
        "res['-log10PAdj'] = -numpy.log10(res['padj'])\n",
        "\n",
        "# create column for significance from existing log2FoldChange and -log10PAdj\n",
        "significance = []\n",
        "for i in range(len(res)):\n",
        "    if res.iloc[i]['log2FoldChange'] > LOG2FC_THRESH and res.iloc[i]['-log10PAdj'] > -numpy.log10(ALPHA_LEVEL):\n",
        "        significance.append('significantly up-regulated')\n",
        "    elif res.iloc[i]['log2FoldChange'] < -LOG2FC_THRESH and res.iloc[i]['-log10PAdj'] > -numpy.log10(ALPHA_LEVEL):\n",
        "        significance.append('significantly down-regulated')\n",
        "    elif res.iloc[i]['-log10PAdj'] > -numpy.log10(ALPHA_LEVEL) and res.iloc[i]['padj'] < ALPHA_LEVEL:\n",
        "        significance.append('significant')\n",
        "    else:\n",
        "        significance.append('not significant')\n",
        "\n",
        "res['significance'] = significance\n",
        "# plot the degs\n",
        "plot1 = seaborn.scatterplot(res, x = \"log2FoldChange\", y = \"-log10PAdj\", hue = \"significance\")\n",
        "\n",
        "# sort to get top 10 significant genes\n",
        "top10 = sigs[sigs['padj'] < ALPHA_LEVEL].sort_values(by=['padj', 'log2FoldChange'], ascending=[True, False]).head(10)\n",
        "\n",
        "# add gene_symbol to top10\n",
        "gene_symbol_list = get_symbol_from_id(list(top10.index))\n",
        "top10['gene_symbol'] = gene_symbol_list\n",
        "\n",
        "# add -log10PAdj to top10\n",
        "top10['-log10PAdj'] = -numpy.log10(top10['padj'])\n",
        "\n",
        "# annotate top 10 significant genes\n",
        "for i in range(top10.shape[0]):\n",
        "    gene = top10.iloc[i]\n",
        "    plt.text(gene['log2FoldChange'], gene['-log10PAdj'], gene['gene_symbol'], fontsize=7, ha='right')\n",
        "\n",
        "# draw a line at y=5 for significance\n",
        "plt.axhline(y = -numpy.log10(ALPHA_LEVEL), color='black', linestyle='--')\n",
        "\n",
        "# draw 2 lines at fold change threshold\n",
        "plt.axvline(x = LOG2FC_THRESH, color = 'black', linestyle='--')\n",
        "plt.axvline(x = -LOG2FC_THRESH, color='black', linestyle='--')\n",
        "\n",
        "# set font size for legend\n",
        "plt.legend(fontsize=8)\n",
        "\n",
        "plt.savefig(DGEA_DIR + '/volcano.png')\n",
        "\n",
        "plt.show()\n",
        "\n",
        "\n"
      ],
      "metadata": {
        "id": "alTw2lzgEAWk",
        "colab": {
          "base_uri": "https://localhost:8080/",
          "height": 501
        },
        "outputId": "0c645dc1-5835-4239-dee3-8efc5e387209"
      },
      "execution_count": null,
      "outputs": [
        {
          "output_type": "stream",
          "name": "stderr",
          "text": [
            "WARNING:biothings.client:Input sequence provided is already in string format. No operation performed\n",
            "INFO:biothings.client:querying 1-10 ...\n",
            "INFO:biothings.client:Finished.\n"
          ]
        },
        {
          "output_type": "display_data",
          "data": {
            "text/plain": [
              "<Figure size 640x480 with 1 Axes>"
            ],
            "image/png": "[encoded data removed]"
          },
          "metadata": {}
        }
      ]
    },
    {
      "cell_type": "markdown",
      "source": [
        "The horizontal line (y=-numpy.log10(ALPHA_LEVEL) represents the negative log of the p-value threshold for the adjusted p-values (-log10PAdj). The value 0.05 is the standard alpha level of significance for most scientific research. We defined ALPHA_LEVEL at the top of this notebook. You can read more about the alpha level of significance [here](https://en.wikipedia.org/wiki/Statistical_significance).\n",
        "\n",
        "The two vertical lines (x=-LOG2FC_THRESH and x=+LOG2FC_THRESH) represent the number of times up- and down-regulated the gene expression value is between the 2 conditions of the 2 groups, respectively. We defined the LOG2FC_THRESH value at the top of this notebook. You can read more about the log2 fold-change threshold for DGEA [here](https://www.biostars.org/p/9505003/).\n",
        "\n",
        "The list of differentially expressed genes include those which are significantly down-regulated (in green) and significantly up-regulated (in red). Note that only the top 10 most significant genes are annotated."
      ],
      "metadata": {
        "id": "-9qW6L0Ic97s"
      }
    },
    {
      "cell_type": "markdown",
      "source": [
        "# Check your work before moving on"
      ],
      "metadata": {
        "id": "aIm5fVXzYRFk"
      }
    },
    {
      "cell_type": "code",
      "source": [
        "# make sure your google drive disk space utilization is still under 15G\n",
        "# should be about 2.4GB\n",
        "!du -sh /content/mnt/MyDrive/NASA/GL4HS"
      ],
      "metadata": {
        "id": "2wVkwyoRYTec",
        "colab": {
          "base_uri": "https://localhost:8080/"
        },
        "outputId": "1cb7c35f-0e02-4641-d1b8-9828ef914d4e"
      },
      "execution_count": null,
      "outputs": [
        {
          "output_type": "stream",
          "name": "stdout",
          "text": [
            "2.5G\t/content/mnt/MyDrive/NASA/GL4HS\n"
          ]
        }
      ]
    },
    {
      "cell_type": "code",
      "source": [
        "# time the notebook\n",
        "import datetime\n",
        "end_time = datetime.datetime.now()\n",
        "print('notebook end time: ', end_time.strftime('%Y-%m-%d %H:%M:%S'))\n",
        "\n",
        "print('notebook runtime: ', end_time - start_time)\n",
        "#"
      ],
      "metadata": {
        "id": "Vq_JnOx_Mjkl",
        "colab": {
          "base_uri": "https://localhost:8080/"
        },
        "outputId": "e28e822c-6f03-4f7f-e716-9dbc127b9e49"
      },
      "execution_count": null,
      "outputs": [
        {
          "output_type": "stream",
          "name": "stdout",
          "text": [
            "notebook end time:  2025-08-15 03:27:23\n",
            "notebook runtime:  0:02:43.097465\n"
          ]
        }
      ]
    }
  ]
}