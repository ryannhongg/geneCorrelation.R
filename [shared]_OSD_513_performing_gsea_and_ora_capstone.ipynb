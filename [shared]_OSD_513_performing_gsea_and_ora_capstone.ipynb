{
  "nbformat": 4,
  "nbformat_minor": 0,
  "metadata": {
    "colab": {
      "provenance": [],
      "include_colab_link": true
    },
    "kernelspec": {
      "name": "python3",
      "display_name": "Python 3"
    },
    "language_info": {
      "name": "python"
    }
  },
  "cells": [
    {
      "cell_type": "markdown",
      "metadata": {
        "id": "view-in-github",
        "colab_type": "text"
      },
      "source": [
        "<a href=\"https://colab.research.google.com/github/ryannhongg/geneCorrelation.R/blob/main/%5Bshared%5D_OSD_513_performing_gsea_and_ora_capstone.ipynb\" target=\"_parent\"><img src=\"https://colab.research.google.com/assets/colab-badge.svg\" alt=\"Open In Colab\"/></a>"
      ]
    },
    {
      "cell_type": "markdown",
      "source": [
        "<div>\n",
        "<img src=\"https://www.nasa.gov/wp-content/uploads/2024/07/osdr-gl4hs-logo.png\" width=\"600\"/>\n",
        "</div>"
      ],
      "metadata": {
        "id": "v3bhgzpfbM2M"
      }
    },
    {
      "cell_type": "markdown",
      "source": [
        "# **NOTEBOOK: Performing gene set enrichment analysis (GSEA) and over-representation analysis (ORA)**\n",
        "In this notebook, you will run statistical tests to determine which gene sets are over-represented by the differentially expressed genes you identified in the previous notebook. You'll also conduct gene set enrichment analysis which uses the gene expression data itself to determine which gene sets are enriched by genes differentially expressed between 2 groups (e.g. spaceflight and ground control).\n",
        "\n",
        "## **Objectives of this notebook**\n",
        "The primary objective of this notebook is to use Python's gseapy implementations of GSEA and ORA to find gene sets which are statistically significantly enriched by the genes that are differentially expressed between ground control and space flight groups in your dataset.\n",
        "\n",
        "GSEA and ORA help us better understand which biological, cellular, and molecular processes and pathways explain the phenotypic differences we may observe between space flight and ground control mice. By extension, because the mouse is a model mammal organism which shares many body plans and orthologous genes with humans, we may infer how spaceflight may impact astronaut health. You can read more about GSEA in this [Wikipedia article](https://en.wikipedia.org/wiki/Gene_set_enrichment_analysis).\n",
        "\n",
        "We use a library called enrichR which is written for R and Python, and has an [online portal](https://maayanlab.cloud/Enrichr/) you can query. You can learn more about enrichR and gene set enrichment analysis in this [YouTube video](https://www.youtube.com/watch?v=H1cUs6pql9s). The `gseapy` Python module has implementations for both GSEA as well as ORA. The major difference between these 2 approaches is that GSEA takes gene expression data as input and ORA takes a list of genes as input. As such, ORA is a more flexible tool and can be used to find gene sets and pathways  enriched by a list of genes regardless of how that list is derived. Here is a [Website](https://rnabio.org/module-08-scrna/0008/05/01/Gene_set_enrichment/) which discusses the differences between these 2 approaches.\n",
        "\n",
        "## **UNIX commands introduced in this notebook**\n",
        "\n",
        "N/A"
      ],
      "metadata": {
        "id": "Haz6qGdq0Q01"
      }
    },
    {
      "cell_type": "markdown",
      "source": [
        "# Prepare the runtime environment for the notebook"
      ],
      "metadata": {
        "id": "MbsdHhEvn0cc"
      }
    },
    {
      "cell_type": "code",
      "execution_count": null,
      "metadata": {
        "id": "wuZaffD5o3mS",
        "colab": {
          "base_uri": "https://localhost:8080/"
        },
        "outputId": "61178b2b-ca07-4482-beae-c99187aa164e"
      },
      "outputs": [
        {
          "output_type": "stream",
          "name": "stdout",
          "text": [
            "Drive not mounted, so nothing to flush and unmount.\n",
            "Mounted at mnt\n"
          ]
        }
      ],
      "source": [
        "# mount google drive\n",
        "from google.colab import drive\n",
        "drive.flush_and_unmount()\n",
        "drive.mount(\"mnt\")"
      ]
    },
    {
      "cell_type": "code",
      "source": [
        "# time the notebook\n",
        "import datetime\n",
        "start_time = datetime.datetime.now()\n",
        "print('notebook start time: ', start_time.strftime('%Y-%m-%d %H:%M:%S'))"
      ],
      "metadata": {
        "id": "-UZ4G4zQ1Wa-",
        "colab": {
          "base_uri": "https://localhost:8080/"
        },
        "outputId": "88ab3964-2e3c-4f25-b53c-531102656ca5"
      },
      "execution_count": null,
      "outputs": [
        {
          "output_type": "stream",
          "name": "stdout",
          "text": [
            "notebook start time:  2025-08-19 23:58:51\n"
          ]
        }
      ]
    },
    {
      "cell_type": "code",
      "source": [
        "# define OSD dataset number to use for this notebook\n",
        "OSD_DATASET='513'\n",
        "GLDS_DATASET='513'"
      ],
      "metadata": {
        "id": "zxy9g4VFpPFS"
      },
      "execution_count": null,
      "outputs": []
    },
    {
      "cell_type": "code",
      "source": [
        "# define factors for experiment\n",
        "\n",
        "# young GC vs old GC\n",
        "config_1 = {\n",
        "    'experiment name': 'young_GC_vs_old_GC',\n",
        "    'factor_list': ['Factor Value[Spaceflight]', 'Factor Value[Age]'],\n",
        "    'group_A': {'Factor Value[Spaceflight]': 'Ground Control', 'Factor Value[Age]': '10 to 12'},\n",
        "    'group_B': {'Factor Value[Spaceflight]': 'Ground Control', 'Factor Value[Age]': '32'}\n",
        "}\n",
        "\n",
        "# young FLT vs old FLT\n",
        "config_2 = {\n",
        "    'experiment name': 'young_FLT_vs_old_FLT',\n",
        "    'factor_list': ['Factor Value[Spaceflight]', 'Factor Value[Age]'],\n",
        "    'group_A': {'Factor Value[Spaceflight]': 'Space Flight', 'Factor Value[Age]': '10 to 12'},\n",
        "    'group_B': {'Factor Value[Spaceflight]': 'Space Flight', 'Factor Value[Age]': '32'}\n",
        "}\n",
        "\n",
        "# young GC vs young FLT\n",
        "config_3 = {\n",
        "    'experiment name': 'young_GC_vs_young_FLT',\n",
        "    'factor_list': ['Factor Value[Spaceflight]', 'Factor Value[Age]'],\n",
        "    'group_A': {'Factor Value[Spaceflight]': 'Ground Control', 'Factor Value[Age]': '10 to 12'},\n",
        "    'group_B': {'Factor Value[Spaceflight]': 'Space Flight', 'Factor Value[Age]': '10 to 12'}\n",
        "}\n",
        "\n",
        "# old GC vs old FLT\n",
        "config_4 = {\n",
        "    'experiment name': 'old_GC_vs_old_FLT',\n",
        "    'factor_list': ['Factor Value[Spaceflight]', 'Factor Value[Age]'],\n",
        "    'group_A': {'Factor Value[Spaceflight]': 'Ground Control', 'Factor Value[Age]': '32'},\n",
        "    'group_B': {'Factor Value[Spaceflight]': 'Space Flight', 'Factor Value[Age]': '32'}\n",
        "}\n",
        "\n",
        "# FLT vs GC\n",
        "config_5 = {\n",
        "    'experiment name': 'FLT_vs_GC',\n",
        "    'factor_list': ['Factor Value[Spaceflight]'],\n",
        "    'group_A': {'Factor Value[Spaceflight]': 'Space Flight'},\n",
        "    'group_B': {'Factor Value[Spaceflight]': 'Ground Control'}\n",
        "}\n",
        "\n",
        "# YNG vs OLD\n",
        "config_6 = {\n",
        "    'experiment name': 'YNG_vs_OLD',\n",
        "    'factor_list': ['Factor Value[Age]'],\n",
        "    'group_A': {'Factor Value[Age]': '10 to 12'},\n",
        "    'group_B': {'Factor Value[Age]': '32'}\n",
        "}\n",
        "\n",
        "# LONG vs SHORT\n",
        "config_7 = {\n",
        "    'experiment name': 'LONG_vs_SHORT',\n",
        "    'factor_list': ['Factor Value[Duration]'],\n",
        "    'group_A': {'Factor Value[Duration]': '~25'},\n",
        "    'group_B': {'Factor Value[Duration]': '~75'}\n",
        "}\n",
        "config = config_5\n"
      ],
      "metadata": {
        "id": "K3PF_WSss4xp"
      },
      "execution_count": null,
      "outputs": []
    },
    {
      "cell_type": "code",
      "source": [
        "# define output dir\n",
        "OUTPUT_DIR=\"/content/drive/MyDrive/NASA/GL4HS/CAPSTONE/513/FLT_vs_GC\""
      ],
      "metadata": {
        "id": "3h5Dk39nqqYs"
      },
      "execution_count": null,
      "outputs": []
    },
    {
      "cell_type": "code",
      "source": [
        "# set DGEA_DIR to get DEGs\n",
        "import os\n",
        "DGEA_DIR=OUTPUT_DIR + \"/DGEA/\"\n",
        "if not os.path.exists(DGEA_DIR):\n",
        "  raise Exception(\"STOP! You must finish the preceding notebook before running this one\")"
      ],
      "metadata": {
        "id": "09QH8xP-yXcU",
        "colab": {
          "base_uri": "https://localhost:8080/",
          "height": 176
        },
        "outputId": "77f31c92-da7d-40a8-9898-c6853711f02c"
      },
      "execution_count": null,
      "outputs": [
        {
          "output_type": "error",
          "ename": "Exception",
          "evalue": "STOP! You must finish the preceding notebook before running this one",
          "traceback": [
            "\u001b[0;31m---------------------------------------------------------------------------\u001b[0m",
            "\u001b[0;31mException\u001b[0m                                 Traceback (most recent call last)",
            "\u001b[0;32m/tmp/ipython-input-3332205323.py\u001b[0m in \u001b[0;36m<cell line: 0>\u001b[0;34m()\u001b[0m\n\u001b[1;32m      3\u001b[0m \u001b[0mDGEA_DIR\u001b[0m\u001b[0;34m=\u001b[0m\u001b[0mOUTPUT_DIR\u001b[0m \u001b[0;34m+\u001b[0m \u001b[0;34m\"/DGEA/\"\u001b[0m\u001b[0;34m\u001b[0m\u001b[0;34m\u001b[0m\u001b[0m\n\u001b[1;32m      4\u001b[0m \u001b[0;32mif\u001b[0m \u001b[0;32mnot\u001b[0m \u001b[0mos\u001b[0m\u001b[0;34m.\u001b[0m\u001b[0mpath\u001b[0m\u001b[0;34m.\u001b[0m\u001b[0mexists\u001b[0m\u001b[0;34m(\u001b[0m\u001b[0mDGEA_DIR\u001b[0m\u001b[0;34m)\u001b[0m\u001b[0;34m:\u001b[0m\u001b[0;34m\u001b[0m\u001b[0;34m\u001b[0m\u001b[0m\n\u001b[0;32m----> 5\u001b[0;31m   \u001b[0;32mraise\u001b[0m \u001b[0mException\u001b[0m\u001b[0;34m(\u001b[0m\u001b[0;34m\"STOP! You must finish the preceding notebook before running this one\"\u001b[0m\u001b[0;34m)\u001b[0m\u001b[0;34m\u001b[0m\u001b[0;34m\u001b[0m\u001b[0m\n\u001b[0m",
            "\u001b[0;31mException\u001b[0m: STOP! You must finish the preceding notebook before running this one"
          ]
        }
      ]
    },
    {
      "cell_type": "code",
      "source": [
        "from google.colab import drive\n",
        "drive.mount('/content/drive')"
      ],
      "metadata": {
        "id": "W_uF7heQubfE"
      },
      "execution_count": null,
      "outputs": []
    },
    {
      "cell_type": "code",
      "source": [
        "import os\n",
        "META_DIR=OUTPUT_DIR + \"/META/\"\n",
        "if not os.path.exists(META_DIR):\n",
        "  raise Exception(\"STOP! You must finish the preceding notebook before running this one\")"
      ],
      "metadata": {
        "id": "y7R2RxZ4WC_n"
      },
      "execution_count": null,
      "outputs": []
    },
    {
      "cell_type": "code",
      "source": [
        "import os\n",
        "GSEA_DIR=OUTPUT_DIR + \"/GSEA/\"\n",
        "if os.path.exists(GSEA_DIR):\n",
        "  !rm -rf {GSEA_DIR}\n",
        "!mkdir -p {GSEA_DIR}"
      ],
      "metadata": {
        "id": "mh1Ufg3mtKz4"
      },
      "execution_count": null,
      "outputs": []
    },
    {
      "cell_type": "code",
      "source": [
        "# install packages and import the modules needed to do DGEA\n",
        "!pip install gseapy==1.1.8 --no-cache\n",
        "import gseapy as gp\n",
        "from gseapy import Msigdb\n",
        "!pip install mygene"
      ],
      "metadata": {
        "id": "KfsT8ymqpL-n"
      },
      "execution_count": null,
      "outputs": []
    },
    {
      "cell_type": "markdown",
      "source": [
        "# Define Python methods"
      ],
      "metadata": {
        "id": "ll2YZveZUSex"
      }
    },
    {
      "cell_type": "code",
      "source": [
        "# define method to run ORA\n",
        "def run_ora( gene_results, gene_set_list, background_genes=[], display_cols=['Term', 'Genes', 'Adjusted P-value', 'Combined Score'], sleep_time=5, retries=10):\n",
        "  counter = 0\n",
        "  import time\n",
        "  enr = None\n",
        "  gsea = None\n",
        "  while counter < retries:\n",
        "    try:\n",
        "      # use enrichR to get gene ontology terms for molecular function, cellular components, and biological processes\n",
        "      # sometimes the call fails, so just re-run the cell after a few seconds\n",
        "      enr = gp.enrichr(gene_list=list(gene_results),\n",
        "                      gene_sets=gene_set_list,\n",
        "                      organism='mouse',\n",
        "                      outdir=None,\n",
        "                      )\n",
        "    except:\n",
        "      time.sleep(sleep_time)\n",
        "      counter += 1\n",
        "      continue\n",
        "    break\n",
        "\n",
        "  if not enr is None:\n",
        "    # show top 10 results with adjusted p-value less than 0.05\n",
        "    # other cols to display ['Term', 'Overlap', 'Genes', 'Adjusted P-value']\n",
        "    gsea = enr.results[enr.results['Adjusted P-value'] < 0.05][display_cols]\n",
        "  else:\n",
        "    print('gsea failed')\n",
        "  return gsea, enr"
      ],
      "metadata": {
        "id": "QJXTWla8dB4o"
      },
      "execution_count": null,
      "outputs": []
    },
    {
      "cell_type": "code",
      "source": [
        "# define method to run gseapy\n",
        "def run_run_ora(deg_gene_symbols, background_gene_symbols, available_gene_sets, gene_set_list):\n",
        "  gene_sets = list()\n",
        "  for gene_set in gene_set_list:\n",
        "    if gene_set not in available_gene_sets:\n",
        "      print('gene set NOT found: ', gene_set)\n",
        "    else:\n",
        "      print('gene set found: ', gene_set)\n",
        "      gene_sets.append(gene_set)\n",
        "  results, enr = run_ora(deg_gene_symbols, gene_sets, background_gene_symbols)\n",
        "\n",
        "  return results, enr"
      ],
      "metadata": {
        "id": "QLcB4E2cZ7rn"
      },
      "execution_count": null,
      "outputs": []
    },
    {
      "cell_type": "code",
      "source": [
        "# define method to convert gene ids to symbols\n",
        "def get_symbols_from_ids(gene_list):\n",
        "  import mygene\n",
        "\n",
        "  symbol_list = list()\n",
        "  mg = mygene.MyGeneInfo()\n",
        "  ginfo = mg.querymany(gene_list, scopes='ensembl.gene')\n",
        "  seen_genes = list()\n",
        "  for g in ginfo:\n",
        "    if g['query'] in seen_genes:\n",
        "      continue\n",
        "    if not 'symbol' in g:\n",
        "      symbol_list.append(g['query'])\n",
        "    else:\n",
        "      symbol_list.append(g['symbol'])\n",
        "    seen_genes.append(g['query'])\n",
        "  return symbol_list"
      ],
      "metadata": {
        "id": "N4uBARpNr3nx"
      },
      "execution_count": null,
      "outputs": []
    },
    {
      "cell_type": "code",
      "source": [
        "# define method to transpose a dataframe\n",
        "def transpose_df(df, cur_index_col, new_index_col):\n",
        "  df = df.set_index(cur_index_col).T\n",
        "  df.reset_index(level=0, inplace=True)\n",
        "  cols = [new_index_col] + list(df.columns)[1:]\n",
        "  df.columns = cols\n",
        "  return df"
      ],
      "metadata": {
        "id": "0gXBLiLke3iG"
      },
      "execution_count": null,
      "outputs": []
    },
    {
      "cell_type": "markdown",
      "source": [
        "# Read in data from google drive"
      ],
      "metadata": {
        "id": "kVC1raSgUdNp"
      }
    },
    {
      "cell_type": "code",
      "source": [
        "# read DEGs from file\n",
        "import os\n",
        "deg_gene_symbols = []\n",
        "file_path = os.path.join(DGEA_DIR, 'deg_genes.txt')\n",
        "if not os.path.exists(file_path):\n",
        "  raise Exception(\"STOP! You must finish the preceding notebook before running this one\")\n",
        "with open(file_path, 'r') as f:\n",
        "  for line in f:\n",
        "    deg_gene_symbols.append(line.strip())"
      ],
      "metadata": {
        "id": "Yb17Pdsdr412"
      },
      "execution_count": null,
      "outputs": []
    },
    {
      "cell_type": "code",
      "source": [
        "# pring the first 10 degs\n",
        "print('number of DEGs: ', len(deg_gene_symbols))\n",
        "deg_gene_symbols[:10]"
      ],
      "metadata": {
        "id": "tuW8IZjsrUs3"
      },
      "execution_count": null,
      "outputs": []
    },
    {
      "cell_type": "markdown",
      "source": [
        "These genes are Ensembl gene symbols. You can learn more about Ensembl gene naming [here](https://www.informatics.jax.org/mgihome/nomen/gene.shtml).\n"
      ],
      "metadata": {
        "id": "-X8PqKyzB2OA"
      }
    },
    {
      "cell_type": "markdown",
      "source": [
        "We are going to submit the list of \"background\" genes along with the differentially expressed genes to the `gseapy` Enrichr tool. You can read more about background genes on this [biostars thread](https://www.biostars.org/p/17628/)."
      ],
      "metadata": {
        "id": "XX0PM8yPJN5M"
      }
    },
    {
      "cell_type": "code",
      "source": [
        "# read background genes from file\n",
        "background_gene_symbols = []\n",
        "import os\n",
        "file_path = os.path.join(DGEA_DIR, 'background_genes.txt')\n",
        "if not os.path.exists(file_path):\n",
        "  raise Exception(\"STOP! You must finish the preceding notebook before running this one\")\n",
        "with open(file_path, 'r') as f:\n",
        "  for line in f:\n",
        "    background_gene_symbols.append(line.strip())"
      ],
      "metadata": {
        "id": "Q1DemZ67k6L3"
      },
      "execution_count": null,
      "outputs": []
    },
    {
      "cell_type": "code",
      "source": [
        "# print the first 10 background genes\n",
        "print('number of background genes: ', len(background_gene_symbols))\n",
        "background_gene_symbols[:10]"
      ],
      "metadata": {
        "id": "IFG53Gn4lBjp"
      },
      "execution_count": null,
      "outputs": []
    },
    {
      "cell_type": "code",
      "source": [
        "# read in expr_df from google drive\n",
        "import pandas as pd\n",
        "expr_df = pd.read_csv(DGEA_DIR + '/expr_df_factors.csv')\n",
        "\n",
        "# transpose dataframe so it's genes x samples\n",
        "expr_df_t = transpose_df(expr_df, 'sample', 'Gene')\n",
        "\n",
        "genes = list(expr_df_t['Gene'])\n",
        "\n",
        "# convert gene ids to gene symbols\n",
        "gene_symbols = get_symbols_from_ids(genes)\n",
        "\n",
        "# then cast gene names to upper case\n",
        "gene_symbols_upper = [gene.upper() for gene in gene_symbols]\n",
        "expr_df_t['Gene'] = gene_symbols_upper\n",
        "\n",
        "# print first 5 rows of expression matrix\n",
        "expr_df_t.head()\n"
      ],
      "metadata": {
        "id": "XTWcu2LpVzrm"
      },
      "execution_count": null,
      "outputs": []
    },
    {
      "cell_type": "markdown",
      "source": [
        "# Run gene set enrichment analysis\n",
        "We will use gsea from the `gseapy` Python package to perform gene set enrichment analysis. The code in this section was drived from [this example](https://gseapy.readthedocs.io/en/latest/gseapy_example.html#GSEA-Example) in the gseapy documentation."
      ],
      "metadata": {
        "id": "m79Cg87rVS5o"
      }
    },
    {
      "cell_type": "code",
      "source": [
        "# read in factors from previous notebook\n",
        "factors = pd.read_csv(DGEA_DIR + '/factors.csv')\n",
        "classes = [str(i) for i in list(factors['factor'])]\n",
        "print('factors shape: ', factors.shape)\n",
        "print('classes: ', classes)\n"
      ],
      "metadata": {
        "id": "4eW2dmVpV58k"
      },
      "execution_count": null,
      "outputs": []
    },
    {
      "cell_type": "code",
      "source": [
        "# define gene sets to explore in GSEA\n",
        "go_gene_sets = ['GO_Molecular_Function_2025', \\\n",
        "                 'GO_Biological_Process_2025', \\\n",
        "                 'GO_Cellular_Component_2025']\n",
        "\n",
        "# run GSEA experiment\n",
        "go_gsea_res = gp.gsea(data=expr_df_t,\n",
        "                 gene_sets=go_gene_sets,\n",
        "                 cls= classes,\n",
        "                 # set permutation_type to phenotype if samples >=15\n",
        "                 outdir=None,\n",
        "                 method='signal_to_noise',\n",
        "                 threads=2, seed= 7,\n",
        "                 permutation_type='gene_set')\n",
        "\n",
        "print(go_gsea_res)\n",
        "\n",
        "# filter results based on FWER p-val < 0.05\n",
        "go_gsea_results = go_gsea_res.res2d[go_gsea_res.res2d['FWER p-val'] < 0.05]\n",
        "\n",
        "# define columns to display in output\n",
        "display_cols = ['Term', 'Lead_genes', 'NES', 'FWER p-val']\n",
        "\n",
        "# print head of GSEA results\n",
        "print('gsea results: ', go_gsea_results[display_cols].head())\n",
        "\n",
        "# save the GO GSEA results to google drive\n",
        "go_gsea_results.to_csv(GSEA_DIR + '/go_gsea_results.csv', index=None)\n"
      ],
      "metadata": {
        "id": "u0Lr0dzhYAiU"
      },
      "execution_count": null,
      "outputs": []
    },
    {
      "cell_type": "code",
      "source": [
        "# plot GO GSEA results in dot plot\n",
        "from gseapy import dotplot\n",
        "import matplotlib.pyplot as plt\n",
        "\n",
        "if go_gsea_results.empty:\n",
        "  print('no GO GSEA results to plot')\n",
        "else:\n",
        "  ax = dotplot(go_gsea_results,\n",
        "              column=\"FWER p-val\",\n",
        "              title='GO GSEA',\n",
        "              cmap=plt.cm.viridis,\n",
        "              size=5,\n",
        "              figsize=(4,5), cutoff=1)\n",
        "\n",
        "  # save dotplot to google drive\n",
        "  ax.get_figure().savefig(GSEA_DIR + '/go_gsea_dotplot.png')"
      ],
      "metadata": {
        "id": "CCQ5Iv_8XELN"
      },
      "execution_count": null,
      "outputs": []
    },
    {
      "cell_type": "markdown",
      "source": [
        "The smaller the FWER p-value, the more significant the statistical enrichment. The higher the percentage of genes in the gene set, the larger the dot in the plot. The horizontal axis is the normalized enrichment score (NES)."
      ],
      "metadata": {
        "id": "cGJGWqjsSaQW"
      }
    },
    {
      "cell_type": "code",
      "source": [
        "# plot GO GSEA results in heatmap\n",
        "from gseapy import heatmap\n",
        "if go_gsea_results.empty:\n",
        "  print('no GO GSEA results to plot')\n",
        "else:\n",
        "  terms = go_gsea_results.Term\n",
        "\n",
        "  for i in range(len(go_gsea_results)):\n",
        "    genes = go_gsea_results.Lead_genes[i].split(\";\")\n",
        "    ax = heatmap(df = go_gsea_res.heatmat.loc[genes], z_score=0, title=terms[i], figsize=(14,4))\n",
        "\n",
        "  # save heatmap data to google drive\n",
        "  go_gsea_res.heatmat.to_csv(GSEA_DIR + '/go_gsea_heatmap.csv', index=None)\n",
        "\n",
        "  # save heatmap figure to google drive\n",
        "  ax.get_figure().savefig(GSEA_DIR + '/go_gsea_heatmap.png')"
      ],
      "metadata": {
        "id": "kcbjBwyseh99"
      },
      "execution_count": null,
      "outputs": []
    },
    {
      "cell_type": "code",
      "source": [
        "geo_gene_sets = ['Disease_Perturbations_from_GEO_down', \\\n",
        "                 'Disease_Perturbations_from_GEO_up']\n",
        "\n",
        "geo_gsea_res = gp.gsea(data=expr_df_t,\n",
        "                 gene_sets=geo_gene_sets,\n",
        "                 cls= classes,\n",
        "                 # set permutation_type to phenotype if samples >=15\n",
        "                 outdir=GSEA_DIR,\n",
        "                 method='signal_to_noise',\n",
        "                 threads=2, seed= 7,\n",
        "                 permutation_type='gene_set')\n",
        "\n",
        "# filter results based on FWER p-val\n",
        "geo_gsea_results = geo_gsea_res.res2d[geo_gsea_res.res2d['FWER p-val'] < 0.05]\n",
        "\n",
        "# define columns to display in output\n",
        "display_cols = ['Term', 'Lead_genes', 'NES', 'FWER p-val']\n",
        "\n",
        "# print top 10 GSEA results\n",
        "print('head of geo gsea results: ', geo_gsea_results[display_cols].head())\n",
        "\n",
        "# save the GO GSEA results to google drive\n",
        "geo_gsea_results.to_csv(GSEA_DIR + '/geo_gsea_results.csv', index=None)"
      ],
      "metadata": {
        "id": "dvwhQzsCVYNV"
      },
      "execution_count": null,
      "outputs": []
    },
    {
      "cell_type": "code",
      "source": [
        "# create the dot plot\n",
        "from gseapy import dotplot\n",
        "import matplotlib.pyplot as plt\n",
        "if geo_gsea_results.empty:\n",
        "  print('no GEO GSEA results to plot')\n",
        "else:\n",
        "  ax = dotplot(geo_gsea_results,\n",
        "              column=\"FWER p-val\",\n",
        "              title='GEO GSEA',\n",
        "              cmap=plt.cm.viridis,\n",
        "              size=5,\n",
        "              figsize=(4,5), cutoff=1)\n",
        "\n",
        "  # save figure to google drive\n",
        "  ax.get_figure().savefig(GSEA_DIR + '/geo_gsea_dotplot.png')"
      ],
      "metadata": {
        "id": "Gyh7hcpBYzse"
      },
      "execution_count": null,
      "outputs": []
    },
    {
      "cell_type": "code",
      "source": [
        "# plot GEO GSEA results in heatmap\n",
        "from gseapy import heatmap\n",
        "if geo_gsea_results.empty:\n",
        "  print('no GEO GSEA results to plot')\n",
        "else:\n",
        "  terms = geo_gsea_results.Term\n",
        "\n",
        "  for i in range(len(geo_gsea_results)):\n",
        "    genes = geo_gsea_results.Lead_genes[i].split(\";\")\n",
        "    ax = heatmap(df = geo_gsea_res.heatmat.loc[genes], z_score=0, title=terms[i], figsize=(14,4))\n",
        "\n",
        "  # save heatmap data to google drive\n",
        "  geo_gsea_res.heatmat.to_csv(GSEA_DIR + '/geo_gsea_heatmap.csv', index=None)\n",
        "\n",
        "  # save heatmap figure to google drive\n",
        "  ax.get_figure().savefig(GSEA_DIR + '/geo_gsea_heatmap.png')"
      ],
      "metadata": {
        "id": "vFJeNZK0fL7V"
      },
      "execution_count": null,
      "outputs": []
    },
    {
      "cell_type": "markdown",
      "source": [
        "# Run over-representation analysis\n",
        "\n",
        "We will use Enrichr from the `gseapy` Python package to perform over-representation analysis. You can learn more about Enrichr [here](https://bmcbioinformatics.biomedcentral.com/articles/10.1186/1471-2105-14-128)."
      ],
      "metadata": {
        "id": "zAMqNJ5yppT5"
      }
    },
    {
      "cell_type": "code",
      "source": [
        "# get list of all available gene sets to query\n",
        "list_of_gene_sets=gp.get_library_name(organism='Mouse')\n",
        "print('number of gene sets to analyze: ', len(list_of_gene_sets))\n",
        "print(list_of_gene_sets)"
      ],
      "metadata": {
        "id": "RrpjVwp5h4HD"
      },
      "execution_count": null,
      "outputs": []
    },
    {
      "cell_type": "markdown",
      "source": [
        "We are only going to look at a few of those gene sets, but you should feel free to add more gene sets from the list above to the list below. You can learn more about these gene sets [here](https://maayanlab.cloud/Enrichr/#libraries)."
      ],
      "metadata": {
        "id": "hrSNjREbICLX"
      }
    },
    {
      "cell_type": "code",
      "source": [
        "# verify the gene sets we're exploring are still part of the supported libraries\n",
        "# if one is not available, terminate the notebook!\n",
        "available_gene_sets = list()\n",
        "\n",
        "for gene_set in ['GO_Molecular_Function_2025', \\\n",
        "                 'GO_Biological_Process_2025', \\\n",
        "                 'GO_Cellular_Component_2025', \\\n",
        "                 'Disease_Perturbations_from_GEO_down', \\\n",
        "                 'Disease_Perturbations_from_GEO_up']:\n",
        "  if gene_set not in list_of_gene_sets:\n",
        "    print('gene set not found!:', gene_set)\n",
        "    raise Exception(\"STOP! remove this gene set from the gene_set list above as it appears to be unavailable\")\n",
        "  else:\n",
        "    print('gene set found: ', gene_set)\n",
        "    available_gene_sets.append(gene_set)"
      ],
      "metadata": {
        "id": "D0hSq8n97ln6"
      },
      "execution_count": null,
      "outputs": []
    },
    {
      "cell_type": "code",
      "source": [
        "# define dictionary to hold results and enrichR object to hold enrichR data\n",
        "enrichr_results = {}\n",
        "enrichr = {}"
      ],
      "metadata": {
        "id": "vgPSUyBoq0Z_"
      },
      "execution_count": null,
      "outputs": []
    },
    {
      "cell_type": "markdown",
      "source": [
        "**NOTE**\n",
        "\n",
        "The calls to the online Enrichr Web Service may fail (it's a free Web service that has been known to periodically fail). If they do fail, you can copy the list of differentially expressed genes into your favorite editor (like MS Word or textedit or Google Docs) and create a list such as the following by removing the `'`, `[`, `]` characters from the list. Then use online pathway and gene set enrichment tools such as [DAVID](https://davidbioinformatics.nih.gov/summary.jsp), [MSigDB](https://www.gsea-msigdb.org/gsea/login.jsp), and [ShinyGO](https://bioinformatics.sdstate.edu/go/).\n",
        "\n"
      ],
      "metadata": {
        "id": "x74yHqJzQH2p"
      }
    },
    {
      "cell_type": "code",
      "source": [
        "# Get GO results\n",
        "# print the top 10\n",
        "gene_sets = ['GO_Molecular_Function_2025','GO_Cellular_Component_2025', 'GO_Biological_Process_2025']\n",
        "enrichr_results['GO'], enrichr['GO'] = run_run_ora(deg_gene_symbols, background_gene_symbols, available_gene_sets, gene_sets)\n",
        "enrichr_results['GO'].head(10)"
      ],
      "metadata": {
        "id": "RKvWcqZPq4vD"
      },
      "execution_count": null,
      "outputs": []
    },
    {
      "cell_type": "markdown",
      "source": [
        "The output includes each of the gene ontologies that are over-represented by your list of significantly differentially expressed genes. The ORA output is sorted by adjusted p-value.\n",
        "\n",
        "Each over-represented gene set includes your genes which belong to that gene set, along with the adjusted p-value representing the significance of the enrichment. Recall that, in DGEA where we are conducting the same statistical test thousands of times, we needed to adjust the p-value to account for the inflated number of false positives due to multiple testing. Similarly, here we are also conducting the same statistical test thousands of times -- once per gene set. So we also need to adjust the p-value accordingly. You can learn more about how p-values are calculated and adjusted in this [YouTube video](https://www.youtube.com/watch?v=EF94wPaqXM0).\n",
        "\n",
        "You can learn more about GO (gene ontology) and the 3 aspects Molecular Function (MF), Cellular Component (CC), and Biological Process (BP) in [this document](https://geneontology.org/docs/ontology-documentation/)."
      ],
      "metadata": {
        "id": "LtLGeAuQITDG"
      }
    },
    {
      "cell_type": "code",
      "source": [
        "# get disease perturbations for down-regulated GEO signatures\n",
        "# print the top 10\n",
        "gene_sets = ['Disease_Perturbations_from_GEO_down']\n",
        "enrichr_results['GEO_down'], enrichr['GEO_down'] = run_run_ora(deg_gene_symbols, background_gene_symbols, available_gene_sets, gene_sets)\n",
        "enrichr_results['GEO_down'].head(10)\n"
      ],
      "metadata": {
        "id": "18OXOzCNPwdJ"
      },
      "execution_count": null,
      "outputs": []
    },
    {
      "cell_type": "code",
      "source": [
        "# examine the full term and list of genes for the first enriched gene set in the GEO_down library.\n",
        "if len(enrichr_results['GEO_down']) > 0:\n",
        "  print('GEO_down term: ', enrichr_results['GEO_down'].iloc[0]['Term'])\n",
        "  print('GEO_down genes: ', enrichr_results['GEO_down'].iloc[0]['Genes'])\n",
        "else:\n",
        "  print('no GEO_down results to print')"
      ],
      "metadata": {
        "id": "Op2c_FD1Usl1"
      },
      "execution_count": null,
      "outputs": []
    },
    {
      "cell_type": "code",
      "source": [
        "# get disease perturbations for up-regulated GEO signatures\n",
        "# print the top 10\n",
        "gene_sets = ['Disease_Perturbations_from_GEO_up']\n",
        "enrichr_results['GEO_up'], enrichr['GEO_up'] = run_run_ora(deg_gene_symbols, background_gene_symbols, available_gene_sets, gene_sets)\n",
        "enrichr_results['GEO_up'].head(10)\n"
      ],
      "metadata": {
        "id": "UQ1PlCdlP98L"
      },
      "execution_count": null,
      "outputs": []
    },
    {
      "cell_type": "code",
      "source": [
        "# examine the full term and list of genes for the first enriched gene set of the GEO_up library\n",
        "if len(enrichr_results['GEO_up']) > 0:\n",
        "  print('GEO_up term: ', enrichr_results['GEO_up'].iloc[0]['Term'])\n",
        "  print('GEO_up genes: ', enrichr_results['GEO_up'].iloc[0]['Genes'])\n",
        "else:\n",
        "  print('no GEO_up results to print')"
      ],
      "metadata": {
        "id": "8gl3CmtfVRWs"
      },
      "execution_count": null,
      "outputs": []
    },
    {
      "cell_type": "code",
      "source": [
        "# save results to file\n",
        "for db in enrichr_results.keys():\n",
        "  if not enrichr_results[db] is None:\n",
        "    enrichr_results[db].to_csv(GSEA_DIR + '/ora_results_' + db + '.csv', index=None)"
      ],
      "metadata": {
        "id": "xag21m0vrMSX"
      },
      "execution_count": null,
      "outputs": []
    },
    {
      "cell_type": "markdown",
      "source": [
        "# Plot ORA results\n",
        "A GO plot is used to visualize the enriched Gene Ontology (GO) terms generated from the previous steps of the notebook. The four plots generated below represent two of the same results in two slightly visual formats (dot plot versus lollipop plot): In both the dot plot and the lollipop plot, the size of the marker represents the significance of the over-representation (based on the adjusted p-value), while the position along the x-axis indicates the adjusted p-value itself, with smaller values (higher significance) appearing further to the right.  If a process is \"significantly over-represented\", this indicates that the set of genes is likely contributing to the differences between the 2 groups of your experiment."
      ],
      "metadata": {
        "id": "DcAzo_NKGQwb"
      }
    },
    {
      "cell_type": "code",
      "metadata": {
        "id": "dd042fa7"
      },
      "source": [
        "# Plot top GO terms as dot plot with size representing significance\n",
        "\n",
        "import matplotlib.pyplot as plt\n",
        "import seaborn as sns\n",
        "import numpy as np\n",
        "\n",
        "if not enrichr_results['GO'].empty:\n",
        "    # Add a column for plotting size based on -log10(Adjusted P-value)\n",
        "    plot_data = enrichr['GO'].res2d.head(10).copy()\n",
        "    plot_data['Significance'] = -np.log10(plot_data['Adjusted P-value'])\n",
        "\n",
        "    plt.figure(figsize=(10, 8))\n",
        "    sns.scatterplot(x='Adjusted P-value', y='Term', size='Significance', sizes=(100, 1000), \\\n",
        "                    data=plot_data, color='darkblue', legend=False) # sizes sets the range of dot sizes\n",
        "    plt.title('Top 10 Enriched GO Terms (Size based on Significance)')\n",
        "    plt.xlabel('Adjusted P-value')\n",
        "    plt.ylabel('GO Term')\n",
        "    plt.gca().invert_xaxis() # Invert x-axis to show smaller p-values at the top\n",
        "    plt.savefig(GSEA_DIR + '/ora_go_dotplot.png')\n",
        "\n",
        "    plt.show()\n",
        "else:\n",
        "    print(\"No significant GO terms found to plot.\")"
      ],
      "execution_count": null,
      "outputs": []
    },
    {
      "cell_type": "code",
      "metadata": {
        "id": "a9f8e6ec"
      },
      "source": [
        "# Plot top GEO up and down terms as dot plot with size representing significance\n",
        "import pandas as pd\n",
        "import matplotlib.pyplot as plt\n",
        "import seaborn as sns\n",
        "import numpy as np\n",
        "\n",
        "geo_results = pd.concat([enrichr_results['GEO_down'], enrichr_results['GEO_up']], ignore_index=True)\n",
        "\n",
        "if not geo_results.empty:\n",
        "    # Add a column for plotting size based on -log10(Adjusted P-value)\n",
        "    plot_data = enrichr['GEO_down'].res2d.head(10).copy()\n",
        "    plot_data['Significance'] = -np.log10(plot_data['Adjusted P-value'])\n",
        "\n",
        "    plt.figure(figsize=(12, 10))\n",
        "    sns.scatterplot(x='Adjusted P-value', y='Term', size='Significance', sizes=(100, 1000), \\\n",
        "                    data=plot_data, color='darkblue', legend=False) # sizes sets the range of dot sizes\n",
        "    plt.title('Top 10 Enriched GEO Perturbation Signatures (Size based on Significance)')\n",
        "    plt.xlabel('Adjusted P-value')\n",
        "    plt.ylabel('GEO Term')\n",
        "    plt.gca().invert_xaxis() # Invert x-axis to show smaller p-values at the top\n",
        "    plt.savefig(GSEA_DIR + '/ora_geo_dotplot.png')\n",
        "\n",
        "    plt.show()\n",
        "else:\n",
        "    print(\"No significant GEO terms found to plot.\")"
      ],
      "execution_count": null,
      "outputs": []
    },
    {
      "cell_type": "code",
      "metadata": {
        "id": "dfa82eb8"
      },
      "source": [
        "# create lollipop plots for GO ORA results\n",
        "import matplotlib.pyplot as plt\n",
        "import seaborn as sns\n",
        "import numpy as np\n",
        "\n",
        "if not enrichr_results['GO'].empty:\n",
        "    '''plot_data = enrichr_results['GO'].head(10).copy()\n",
        "    plot_data['Significance'] = -np.log10(plot_data['Adjusted P-value'])'''\n",
        "    plot_data = enrichr['GO'].res2d.head(10).copy()\n",
        "    plot_data['Significance'] = -np.log10(plot_data['Adjusted P-value'])\n",
        "    plot_data = plot_data.sort_values('Adjusted P-value', ascending=True) # Sort for better visualization\n",
        "\n",
        "    plt.figure(figsize=(10, 8))\n",
        "    plt.hlines(y=plot_data['Term'], xmin=0, xmax=plot_data['Adjusted P-value'], color='skyblue')\n",
        "\n",
        "    # Plot each point individually with its corresponding marker size\n",
        "    for index, row in plot_data.iterrows():\n",
        "        plt.plot(row['Adjusted P-value'], row['Term'], \"o\", markersize=row['Significance'] * 2, color='darkblue')\n",
        "\n",
        "    plt.title('Top 10 Enriched GO Terms (Size based on Significance)')\n",
        "    plt.xlabel('Adjusted P-value')\n",
        "    plt.ylabel('GO Term')\n",
        "    plt.gca().invert_xaxis() # Invert x-axis to show smaller p-values at the top\n",
        "    plt.grid(axis='x', linestyle='--', alpha=0.7)\n",
        "    plt.savefig(GSEA_DIR + '/ora_go_lollipop.png')\n",
        "\n",
        "    plt.show()\n",
        "else:\n",
        "    print(\"No significant GO terms found to plot.\")"
      ],
      "execution_count": null,
      "outputs": []
    },
    {
      "cell_type": "code",
      "metadata": {
        "id": "7a03d36b"
      },
      "source": [
        "# create lollipop plots for GEO ORA results\n",
        "import pandas as pd\n",
        "import matplotlib.pyplot as plt\n",
        "import seaborn as sns\n",
        "import numpy as np\n",
        "\n",
        "geo_results = pd.concat([enrichr_results['GEO_down'], enrichr_results['GEO_up']], ignore_index=True)\n",
        "\n",
        "if not geo_results.empty:\n",
        "    plot_data = geo_results.head(10).copy()\n",
        "    plot_data['Significance'] = -np.log10(plot_data['Adjusted P-value'])\n",
        "    plot_data = plot_data.sort_values('Adjusted P-value', ascending=True) # Sort for better visualization\n",
        "\n",
        "    plt.figure(figsize=(12, 10))\n",
        "    plt.hlines(y=plot_data['Term'], xmin=0, xmax=plot_data['Adjusted P-value'], color='skyblue')\n",
        "\n",
        "    # Plot each point individually with its corresponding marker size\n",
        "    for index, row in plot_data.iterrows():\n",
        "        plt.plot(row['Adjusted P-value'], row['Term'], \"o\", markersize=row['Significance'] * 2, color='darkblue')\n",
        "\n",
        "    plt.title('Top 10 Enriched GEO Perturbation Signatures (Size based on Significance)')\n",
        "    plt.xlabel('Adjusted P-value')\n",
        "    plt.ylabel('GEO Term')\n",
        "    plt.gca().invert_xaxis() # Invert x-axis to show smaller p-values at the top\n",
        "    plt.grid(axis='x', linestyle='--', alpha=0.7)\n",
        "    plt.savefig(GSEA_DIR + '/ora_geo_lollipop.png')\n",
        "    plt.show()\n",
        "\n",
        "else:\n",
        "    print(\"No significant GEO terms found to plot.\")"
      ],
      "execution_count": null,
      "outputs": []
    },
    {
      "cell_type": "markdown",
      "source": [
        "# Verify notebook is complete before moving on"
      ],
      "metadata": {
        "id": "wKxtKHTcrNE3"
      }
    },
    {
      "cell_type": "code",
      "source": [
        "# make sure your google drive disk space utilization is still under 15G\n",
        "!du -sh /content/mnt/MyDrive/NASA/GL4HS"
      ],
      "metadata": {
        "id": "M6I8iKLk273N"
      },
      "execution_count": null,
      "outputs": []
    },
    {
      "cell_type": "code",
      "source": [
        "# time the notebook\n",
        "import datetime\n",
        "end_time = datetime.datetime.now()\n",
        "print('notebook end time: ', end_time.strftime('%Y-%m-%d %H:%M:%S'))\n",
        "\n",
        "print('notebook runtime: ', end_time - start_time)"
      ],
      "metadata": {
        "id": "VppBgM6H1YnV"
      },
      "execution_count": null,
      "outputs": []
    }
  ]
}